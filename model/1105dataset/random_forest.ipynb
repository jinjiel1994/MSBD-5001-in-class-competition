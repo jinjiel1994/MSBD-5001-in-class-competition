{
 "cells": [
  {
   "cell_type": "code",
   "execution_count": 13,
   "metadata": {},
   "outputs": [],
   "source": [
    "from datetime import datetime\n",
    "import pandas as pd\n",
    "import numpy as np\n",
    "import matplotlib.pyplot as plt\n",
    "from sklearn.model_selection import GridSearchCV\n",
    "from sklearn.ensemble import RandomForestRegressor\n",
    "from sklearn.model_selection import cross_validate\n",
    "\n",
    "import warnings\n",
    "warnings.filterwarnings('ignore')\n",
    "\n",
    "%matplotlib inline"
   ]
  },
  {
   "cell_type": "code",
   "execution_count": 3,
   "metadata": {},
   "outputs": [],
   "source": [
    "# Loading data\n",
    "train = pd.read_csv('../../data/train_data_1105.csv', index_col='id')\n",
    "test = pd.read_csv('../../data/test_data_1105.csv', index_col='id')\n",
    "X_train = train.drop(columns='playtime_forever')\n",
    "y_train = train['playtime_forever']"
   ]
  },
  {
   "cell_type": "code",
   "execution_count": 4,
   "metadata": {},
   "outputs": [],
   "source": [
    "# Hypermeter selecting\n",
    "parameters = {\n",
    "    'n_estimators': [int(x) for x in np.linspace(start = 50, stop = 300, num = 10)],\n",
    "    'max_features': ['auto', 'sqrt', 'log2'],\n",
    "    'max_depth': [int(x) for x in np.linspace(10, 110, num = 5)],\n",
    "    'min_samples_split': [2, 5, 10],\n",
    "    'min_samples_leaf': [1, 2, 4],\n",
    "    'bootstrap': [True, False]\n",
    "}\n",
    "rf = RandomForestRegressor()\n",
    "rf_grid = GridSearchCV(estimator=rf, param_grid=parameters, cv=5, verbose=3, n_jobs=-1)"
   ]
  },
  {
   "cell_type": "code",
   "execution_count": 5,
   "metadata": {},
   "outputs": [
    {
     "name": "stdout",
     "output_type": "stream",
     "text": [
      "Fitting 5 folds for each of 2700 candidates, totalling 13500 fits\n"
     ]
    },
    {
     "name": "stderr",
     "output_type": "stream",
     "text": [
      "[Parallel(n_jobs=-1)]: Using backend LokyBackend with 8 concurrent workers.\n",
      "[Parallel(n_jobs=-1)]: Done  16 tasks      | elapsed:    2.9s\n",
      "[Parallel(n_jobs=-1)]: Done 112 tasks      | elapsed:    8.0s\n",
      "[Parallel(n_jobs=-1)]: Done 272 tasks      | elapsed:   17.3s\n",
      "[Parallel(n_jobs=-1)]: Done 496 tasks      | elapsed:   32.0s\n",
      "[Parallel(n_jobs=-1)]: Done 784 tasks      | elapsed:   48.2s\n",
      "[Parallel(n_jobs=-1)]: Done 1136 tasks      | elapsed:  1.1min\n",
      "[Parallel(n_jobs=-1)]: Done 1552 tasks      | elapsed:  1.6min\n",
      "[Parallel(n_jobs=-1)]: Done 2032 tasks      | elapsed:  2.1min\n",
      "[Parallel(n_jobs=-1)]: Done 2576 tasks      | elapsed:  2.6min\n",
      "[Parallel(n_jobs=-1)]: Done 3184 tasks      | elapsed:  3.2min\n",
      "[Parallel(n_jobs=-1)]: Done 3856 tasks      | elapsed:  4.0min\n",
      "[Parallel(n_jobs=-1)]: Done 4592 tasks      | elapsed:  4.8min\n",
      "[Parallel(n_jobs=-1)]: Done 5392 tasks      | elapsed:  5.7min\n",
      "[Parallel(n_jobs=-1)]: Done 6256 tasks      | elapsed:  6.6min\n",
      "[Parallel(n_jobs=-1)]: Done 7184 tasks      | elapsed:  7.7min\n",
      "[Parallel(n_jobs=-1)]: Done 8176 tasks      | elapsed:  8.6min\n",
      "[Parallel(n_jobs=-1)]: Done 9232 tasks      | elapsed:  9.7min\n",
      "[Parallel(n_jobs=-1)]: Done 10352 tasks      | elapsed: 10.9min\n",
      "[Parallel(n_jobs=-1)]: Done 11536 tasks      | elapsed: 12.2min\n",
      "[Parallel(n_jobs=-1)]: Done 12784 tasks      | elapsed: 13.4min\n",
      "[Parallel(n_jobs=-1)]: Done 13500 out of 13500 | elapsed: 14.1min finished\n"
     ]
    },
    {
     "data": {
      "text/plain": [
       "GridSearchCV(cv=5, error_score='raise-deprecating',\n",
       "             estimator=RandomForestRegressor(bootstrap=True, criterion='mse',\n",
       "                                             max_depth=None,\n",
       "                                             max_features='auto',\n",
       "                                             max_leaf_nodes=None,\n",
       "                                             min_impurity_decrease=0.0,\n",
       "                                             min_impurity_split=None,\n",
       "                                             min_samples_leaf=1,\n",
       "                                             min_samples_split=2,\n",
       "                                             min_weight_fraction_leaf=0.0,\n",
       "                                             n_estimators='warn', n_jobs=None,\n",
       "                                             oob_score=False, random_state=None,\n",
       "                                             verbose=0, warm_start=False),\n",
       "             iid='warn', n_jobs=-1,\n",
       "             param_grid={'bootstrap': [True, False],\n",
       "                         'max_depth': [10, 35, 60, 85, 110],\n",
       "                         'max_features': ['auto', 'sqrt', 'log2'],\n",
       "                         'min_samples_leaf': [1, 2, 4],\n",
       "                         'min_samples_split': [2, 5, 10],\n",
       "                         'n_estimators': [50, 77, 105, 133, 161, 188, 216, 244,\n",
       "                                          272, 300]},\n",
       "             pre_dispatch='2*n_jobs', refit=True, return_train_score=False,\n",
       "             scoring=None, verbose=3)"
      ]
     },
     "execution_count": 5,
     "metadata": {},
     "output_type": "execute_result"
    }
   ],
   "source": [
    "rf_grid.fit(X_train,y_train)"
   ]
  },
  {
   "cell_type": "code",
   "execution_count": 6,
   "metadata": {},
   "outputs": [
    {
     "data": {
      "text/plain": [
       "{'bootstrap': True,\n",
       " 'max_depth': 85,\n",
       " 'max_features': 'sqrt',\n",
       " 'min_samples_leaf': 2,\n",
       " 'min_samples_split': 10,\n",
       " 'n_estimators': 50}"
      ]
     },
     "execution_count": 6,
     "metadata": {},
     "output_type": "execute_result"
    }
   ],
   "source": [
    "rf_grid.best_params_"
   ]
  },
  {
   "cell_type": "code",
   "execution_count": 9,
   "metadata": {},
   "outputs": [],
   "source": [
    "# Save the prediction\n",
    "parameter = {'bootstrap': True,\n",
    " 'max_depth': 85,\n",
    " 'max_features': 'sqrt',\n",
    " 'min_samples_leaf': 2,\n",
    " 'min_samples_split': 10,\n",
    " 'n_estimators': 50}\n",
    "        \n",
    "rf = RandomForestRegressor(**parameter)\n",
    "rf.fit(X_train, y_train)\n",
    "playtime_forever = rf.predict(test)\n",
    "submission = pd.DataFrame(data=playtime_forever, columns=['playtime_forever'])\n",
    "submission.index.name = 'id'\n",
    "submission.to_csv('../../submission/rdf_1105.csv')"
   ]
  },
  {
   "cell_type": "markdown",
   "metadata": {},
   "source": [
    "## See the features importance of random forest"
   ]
  },
  {
   "cell_type": "code",
   "execution_count": 10,
   "metadata": {},
   "outputs": [
    {
     "data": {
      "image/png": "[encoded data removed]",
      "text/plain": [
       "<Figure size 1152x648 with 1 Axes>"
      ]
     },
     "metadata": {
      "needs_background": "light"
     },
     "output_type": "display_data"
    }
   ],
   "source": [
    "feature_list = list(X_train.columns)\n",
    "importances = list(rf.feature_importances_)\n",
    "feature_importances = [(feature, round(importance, 2)) for feature, importance in zip(feature_list, importances)]\n",
    "feature_importances = sorted(feature_importances, key = lambda x: x[1], reverse = True)\n",
    "\n",
    "plt.figure(figsize=(16,9))\n",
    "plt.style.use('fivethirtyeight')\n",
    "x_values = list(range(len(importances)))\n",
    "plt.bar(x_values, importances, orientation = 'vertical', color = 'r', edgecolor = 'k', linewidth = 1.2)\n",
    "plt.xticks(x_values, feature_list, rotation='vertical')\n",
    "# Axis labels and title\n",
    "plt.ylabel('Importance'); plt.xlabel('Variable'); plt.title('Variable Importances for random forest');"
   ]
  },
  {
   "cell_type": "markdown",
   "metadata": {},
   "source": [
    "# Cross Validation"
   ]
  },
  {
   "cell_type": "code",
   "execution_count": 27,
   "metadata": {},
   "outputs": [],
   "source": [
    "cv_results = cross_validate(rf, X_train, y_train, cv=5, scoring='neg_mean_squared_error')"
   ]
  },
  {
   "cell_type": "code",
   "execution_count": 28,
   "metadata": {},
   "outputs": [
    {
     "data": {
      "text/plain": [
       "104.37640818035113"
      ]
     },
     "execution_count": 28,
     "metadata": {},
     "output_type": "execute_result"
    }
   ],
   "source": [
    "-cv_results['test_score'].mean()"
   ]
  }
 ],
 "metadata": {
  "kernelspec": {
   "display_name": "Python 3",
   "language": "python",
   "name": "python3"
  },
  "language_info": {
   "codemirror_mode": {
    "name": "ipython",
    "version": 3
   },
   "file_extension": ".py",
   "mimetype": "text/x-python",
   "name": "python",
   "nbconvert_exporter": "python",
   "pygments_lexer": "ipython3",
   "version": "3.7.4"
  }
 },
 "nbformat": 4,
 "nbformat_minor": 2
}
