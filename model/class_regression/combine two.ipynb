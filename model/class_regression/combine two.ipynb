{
 "cells": [
  {
   "cell_type": "code",
   "execution_count": 1,
   "metadata": {},
   "outputs": [],
   "source": [
    "from datetime import datetime\n",
    "import pandas as pd\n",
    "import numpy as np\n",
    "import matplotlib.pyplot as plt\n",
    "import warnings\n",
    "warnings.filterwarnings('ignore')\n",
    "\n",
    "%matplotlib inline"
   ]
  },
  {
   "cell_type": "code",
   "execution_count": 2,
   "metadata": {},
   "outputs": [],
   "source": [
    "rf = pd.read_csv('../../submission/class_regression/rf.csv', index_col='id')\n",
    "xgb = pd.read_csv('../../submission/class_regression/xgb.csv' , index_col='id')"
   ]
  },
  {
   "cell_type": "code",
   "execution_count": 17,
   "metadata": {},
   "outputs": [],
   "source": [
    "combine = pd.DataFrame(data={\n",
    "    'p1': rf['playtime_forever'],\n",
    "    'p2': xgb['playtime_forever']\n",
    "})\n",
    "combine.loc[combine['p1'] > combine['p2'], \"p1\" ] = combine['p2']\n",
    "combine.loc[combine['p1'] < 0, \"p1\"] = 0\n",
    "combine = combine.drop(columns=['p2'])\n",
    "combine.columns = ['playtime_forever']"
   ]
  },
  {
   "cell_type": "code",
   "execution_count": 18,
   "metadata": {},
   "outputs": [],
   "source": [
    "combine.to_csv('../../submission/class_regression/combine.csv')"
   ]
  },
  {
   "cell_type": "code",
   "execution_count": null,
   "metadata": {},
   "outputs": [],
   "source": []
  }
 ],
 "metadata": {
  "kernelspec": {
   "display_name": "Python 3",
   "language": "python",
   "name": "python3"
  },
  "language_info": {
   "codemirror_mode": {
    "name": "ipython",
    "version": 3
   },
   "file_extension": ".py",
   "mimetype": "text/x-python",
   "name": "python",
   "nbconvert_exporter": "python",
   "pygments_lexer": "ipython3",
   "version": "3.7.4"
  }
 },
 "nbformat": 4,
 "nbformat_minor": 2
}
