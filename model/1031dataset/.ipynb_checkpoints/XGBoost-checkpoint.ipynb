{
 "cells": [
  {
   "cell_type": "code",
   "execution_count": 2,
   "metadata": {},
   "outputs": [],
   "source": [
    "from datetime import datetime\n",
    "import pandas as pd\n",
    "import numpy as np\n",
    "import matplotlib.pyplot as plt\n",
    "from sklearn.model_selection import GridSearchCV, RandomizedSearchCV\n",
    "from xgboost import XGBRegressor, XGBClassifier\n",
    "\n",
    "import warnings\n",
    "warnings.filterwarnings('ignore')\n",
    "\n",
    "%matplotlib inline"
   ]
  },
  {
   "cell_type": "code",
   "execution_count": 3,
   "metadata": {},
   "outputs": [],
   "source": [
    "# Loading data\n",
    "train = pd.read_csv('../../data/train_data_1031.csv', index_col='id')\n",
    "test = pd.read_csv('../../data/test_data_1031.csv', index_col='id')\n",
    "X_train = train.drop(columns='playtime_forever')\n",
    "y_train = train['playtime_forever']"
   ]
  },
  {
   "cell_type": "code",
   "execution_count": 20,
   "metadata": {},
   "outputs": [
    {
     "name": "stdout",
     "output_type": "stream",
     "text": [
      "Fitting 5 folds for each of 1000 candidates, totalling 5000 fits\n"
     ]
    },
    {
     "name": "stderr",
     "output_type": "stream",
     "text": [
      "[Parallel(n_jobs=-1)]: Using backend LokyBackend with 4 concurrent workers.\n",
      "[Parallel(n_jobs=-1)]: Done  24 tasks      | elapsed:    6.8s\n",
      "[Parallel(n_jobs=-1)]: Done 120 tasks      | elapsed:   22.4s\n",
      "[Parallel(n_jobs=-1)]: Done 280 tasks      | elapsed:   47.3s\n",
      "[Parallel(n_jobs=-1)]: Done 504 tasks      | elapsed:  1.4min\n",
      "[Parallel(n_jobs=-1)]: Done 792 tasks      | elapsed:  2.1min\n",
      "[Parallel(n_jobs=-1)]: Done 1144 tasks      | elapsed:  3.0min\n",
      "[Parallel(n_jobs=-1)]: Done 1560 tasks      | elapsed:  4.2min\n",
      "[Parallel(n_jobs=-1)]: Done 2040 tasks      | elapsed:  5.5min\n",
      "[Parallel(n_jobs=-1)]: Done 2584 tasks      | elapsed:  7.0min\n",
      "[Parallel(n_jobs=-1)]: Done 3192 tasks      | elapsed:  8.5min\n",
      "[Parallel(n_jobs=-1)]: Done 3864 tasks      | elapsed: 10.2min\n",
      "[Parallel(n_jobs=-1)]: Done 4600 tasks      | elapsed: 12.3min\n",
      "[Parallel(n_jobs=-1)]: Done 5000 out of 5000 | elapsed: 13.3min finished\n"
     ]
    },
    {
     "name": "stdout",
     "output_type": "stream",
     "text": [
      "[21:22:39] WARNING: src/objective/regression_obj.cu:152: reg:linear is now deprecated in favor of reg:squarederror.\n"
     ]
    },
    {
     "data": {
      "text/plain": [
       "RandomizedSearchCV(cv=5, error_score='raise-deprecating',\n",
       "                   estimator=XGBRegressor(base_score=0.5, booster='gbtree',\n",
       "                                          colsample_bylevel=1,\n",
       "                                          colsample_bynode=1,\n",
       "                                          colsample_bytree=1, gamma=0,\n",
       "                                          importance_type='gain',\n",
       "                                          learning_rate=0.1, max_delta_step=0,\n",
       "                                          max_depth=3, min_child_weight=1,\n",
       "                                          missing=None, n_estimators=100,\n",
       "                                          n_jobs=1, nthread=None,\n",
       "                                          objective='reg:linear',\n",
       "                                          random_st...\n",
       "                                        'gamma': [0, 0.1, 0.2, 0.3, 0.4, 0.5],\n",
       "                                        'learning_rate': [0.1, 0.01, 0.001],\n",
       "                                        'max_depth': [2, 3, 4, 5],\n",
       "                                        'min_child_weight': [1, 2],\n",
       "                                        'n_estimators': [400, 500, 600, 700,\n",
       "                                                         800],\n",
       "                                        'reg_alpha': [0.05, 0.1, 1, 2, 3],\n",
       "                                        'reg_lambda': [0.05, 0.1, 1, 2, 3],\n",
       "                                        'seed': [0],\n",
       "                                        'subsample': [0.6, 0.7, 0.8, 0.9]},\n",
       "                   pre_dispatch='2*n_jobs', random_state=None, refit=True,\n",
       "                   return_train_score=False, scoring=None, verbose=3)"
      ]
     },
     "execution_count": 20,
     "metadata": {},
     "output_type": "execute_result"
    }
   ],
   "source": [
    "# Hypermeter selecting\n",
    "parameters = {'n_estimators': [400, 500, 600, 700, 800],\n",
    "              'learning_rate': [0.1, 0.01, 0.001],\n",
    "              'max_depth': [2, 3, 4, 5], \n",
    "              'min_child_weight': [1, 2],\n",
    "              'gamma': [0,0.1, 0.2, 0.3, 0.4, 0.5],\n",
    "              'subsample': [0.6, 0.7, 0.8, 0.9],\n",
    "              'colsample_bytree': [0.6, 0.7, 0.8, 0.9],\n",
    "              'seed': [0],\n",
    "              'reg_alpha': [0.05, 0.1, 1, 2, 3],\n",
    "              'reg_lambda': [0.05, 0.1, 1, 2, 3]\n",
    "             }\n",
    "\n",
    "xgb = XGBRegressor()\n",
    "xgb_grid = RandomizedSearchCV(estimator=xgb, param_distributions=parameters, n_iter=1000, cv=5, verbose=3, n_jobs=-1)\n",
    "xgb_grid.fit(X_train,y_train)"
   ]
  },
  {
   "cell_type": "code",
   "execution_count": 21,
   "metadata": {
    "scrolled": true
   },
   "outputs": [
    {
     "data": {
      "text/plain": [
       "{'subsample': 0.6,\n",
       " 'seed': 0,\n",
       " 'reg_lambda': 3,\n",
       " 'reg_alpha': 3,\n",
       " 'n_estimators': 600,\n",
       " 'min_child_weight': 2,\n",
       " 'max_depth': 5,\n",
       " 'learning_rate': 0.01,\n",
       " 'gamma': 0.5,\n",
       " 'colsample_bytree': 0.6}"
      ]
     },
     "execution_count": 21,
     "metadata": {},
     "output_type": "execute_result"
    }
   ],
   "source": [
    "xgb_grid.best_params_"
   ]
  },
  {
   "cell_type": "code",
   "execution_count": 22,
   "metadata": {},
   "outputs": [
    {
     "data": {
      "text/plain": [
       "0.20052768495427256"
      ]
     },
     "execution_count": 22,
     "metadata": {},
     "output_type": "execute_result"
    }
   ],
   "source": [
    "xgb_grid.best_score_"
   ]
  },
  {
   "cell_type": "code",
   "execution_count": 4,
   "metadata": {},
   "outputs": [
    {
     "name": "stdout",
     "output_type": "stream",
     "text": [
      "[17:48:25] WARNING: src/objective/regression_obj.cu:152: reg:linear is now deprecated in favor of reg:squarederror.\n"
     ]
    }
   ],
   "source": [
    "parameters = {'subsample': 0.6,\n",
    " 'seed': 0,\n",
    " 'reg_lambda': 3,\n",
    " 'reg_alpha': 3,\n",
    " 'n_estimators': 600,\n",
    " 'min_child_weight': 2,\n",
    " 'max_depth': 5,\n",
    " 'learning_rate': 0.01,\n",
    " 'gamma': 0.5,\n",
    " 'colsample_bytree': 0.6}\n",
    "xgb = XGBRegressor(**parameters)\n",
    "xgb.fit(X_train,y_train)\n",
    "playtime_forever = xgb.predict(test)\n",
    "submission = pd.DataFrame(data=playtime_forever, columns=['playtime_forever'])\n",
    "submission.index.name = 'id'\n",
    "submission.to_csv('../../submission/xgb_1031.csv')"
   ]
  },
  {
   "cell_type": "markdown",
   "metadata": {},
   "source": [
    "## See the features importance of XGBoost"
   ]
  },
  {
   "cell_type": "code",
   "execution_count": 5,
   "metadata": {},
   "outputs": [
    {
     "data": {
      "image/png": "[encoded data removed]",
      "text/plain": [
       "<Figure size 1152x648 with 1 Axes>"
      ]
     },
     "metadata": {
      "needs_background": "light"
     },
     "output_type": "display_data"
    }
   ],
   "source": [
    "feature_list = list(X_train.columns)\n",
    "importances = list(xgb.feature_importances_)\n",
    "feature_importances = [(feature, round(importance, 2)) for feature, importance in zip(feature_list, importances)]\n",
    "feature_importances = sorted(feature_importances, key = lambda x: x[1], reverse = True)\n",
    "\n",
    "plt.figure(figsize=(16,9))\n",
    "plt.style.use('fivethirtyeight')\n",
    "x_values = list(range(len(importances)))\n",
    "plt.bar(x_values, importances, orientation = 'vertical', color = 'r', edgecolor = 'k', linewidth = 1.2)\n",
    "plt.xticks(x_values, feature_list, rotation='vertical')\n",
    "# Axis labels and title\n",
    "plt.ylabel('Importance'); plt.xlabel('Variable'); plt.title('Variable Importances for XGBoost');"
   ]
  },
  {
   "cell_type": "code",
   "execution_count": null,
   "metadata": {},
   "outputs": [],
   "source": []
  }
 ],
 "metadata": {
  "kernelspec": {
   "display_name": "Python 3",
   "language": "python",
   "name": "python3"
  },
  "language_info": {
   "codemirror_mode": {
    "name": "ipython",
    "version": 3
   },
   "file_extension": ".py",
   "mimetype": "text/x-python",
   "name": "python",
   "nbconvert_exporter": "python",
   "pygments_lexer": "ipython3",
   "version": "3.7.4"
  }
 },
 "nbformat": 4,
 "nbformat_minor": 2
}
