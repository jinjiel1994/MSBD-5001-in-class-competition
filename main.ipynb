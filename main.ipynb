{
 "cells": [
  {
   "cell_type": "code",
   "execution_count": 197,
   "metadata": {},
   "outputs": [],
   "source": [
    "from datetime import datetime\n",
    "import pandas as pd\n",
    "import numpy as np\n",
    "import matplotlib.pyplot as plt\n",
    "from sklearn.preprocessing import MinMaxScaler\n",
    "from sklearn.model_selection import train_test_split\n",
    "from sklearn import svm\n",
    "from sklearn.neural_network import MLPRegressor\n",
    "from sklearn.model_selection import cross_val_score\n",
    "from sklearn.ensemble import AdaBoostRegressor\n",
    "from sklearn.ensemble import RandomForestRegressor\n",
    "from sklearn.neighbors import KNeighborsRegressor\n",
    "from xgboost import XGBRegressor\n",
    "from sklearn.metrics import mean_squared_error\n",
    "from sklearn.model_selection import cross_val_score\n",
    "\n",
    "import warnings\n",
    "warnings.filterwarnings('ignore')\n",
    "\n",
    "%matplotlib inline"
   ]
  },
  {
   "cell_type": "code",
   "execution_count": 198,
   "metadata": {},
   "outputs": [],
   "source": [
    "data = pd.read_csv('train.csv', index_col='id')"
   ]
  },
  {
   "cell_type": "code",
   "execution_count": 199,
   "metadata": {},
   "outputs": [
    {
     "data": {
      "text/plain": [
       "playtime_forever          357\n",
       "is_free                   357\n",
       "price                     357\n",
       "genres                    357\n",
       "categories                357\n",
       "tags                      357\n",
       "purchase_date             355\n",
       "release_date              357\n",
       "total_positive_reviews    355\n",
       "total_negative_reviews    355\n",
       "dtype: int64"
      ]
     },
     "execution_count": 199,
     "metadata": {},
     "output_type": "execute_result"
    }
   ],
   "source": [
    "data.count()"
   ]
  },
  {
   "cell_type": "code",
   "execution_count": 200,
   "metadata": {
    "scrolled": true
   },
   "outputs": [
    {
     "data": {
      "text/html": [
       "<div>\n",
       "<style scoped>\n",
       "    .dataframe tbody tr th:only-of-type {\n",
       "        vertical-align: middle;\n",
       "    }\n",
       "\n",
       "    .dataframe tbody tr th {\n",
       "        vertical-align: top;\n",
       "    }\n",
       "\n",
       "    .dataframe thead th {\n",
       "        text-align: right;\n",
       "    }\n",
       "</style>\n",
       "<table border=\"1\" class=\"dataframe\">\n",
       "  <thead>\n",
       "    <tr style=\"text-align: right;\">\n",
       "      <th></th>\n",
       "      <th>playtime_forever</th>\n",
       "      <th>is_free</th>\n",
       "      <th>price</th>\n",
       "      <th>genres</th>\n",
       "      <th>categories</th>\n",
       "      <th>tags</th>\n",
       "      <th>purchase_date</th>\n",
       "      <th>release_date</th>\n",
       "      <th>total_positive_reviews</th>\n",
       "      <th>total_negative_reviews</th>\n",
       "    </tr>\n",
       "    <tr>\n",
       "      <th>id</th>\n",
       "      <th></th>\n",
       "      <th></th>\n",
       "      <th></th>\n",
       "      <th></th>\n",
       "      <th></th>\n",
       "      <th></th>\n",
       "      <th></th>\n",
       "      <th></th>\n",
       "      <th></th>\n",
       "      <th></th>\n",
       "    </tr>\n",
       "  </thead>\n",
       "  <tbody>\n",
       "    <tr>\n",
       "      <th>0</th>\n",
       "      <td>0.000000</td>\n",
       "      <td>False</td>\n",
       "      <td>3700.0</td>\n",
       "      <td>Adventure,Casual,Indie</td>\n",
       "      <td>Single-player,Steam Trading Cards,Steam Cloud</td>\n",
       "      <td>Indie,Adventure,Story Rich,Casual,Atmospheric,...</td>\n",
       "      <td>Jul 2, 2018</td>\n",
       "      <td>10 Dec, 2013</td>\n",
       "      <td>372.0</td>\n",
       "      <td>96.0</td>\n",
       "    </tr>\n",
       "    <tr>\n",
       "      <th>1</th>\n",
       "      <td>0.016667</td>\n",
       "      <td>True</td>\n",
       "      <td>0.0</td>\n",
       "      <td>RPG</td>\n",
       "      <td>Single-player,Partial Controller Support</td>\n",
       "      <td>Mod,Utilities,RPG,Game Development,Singleplaye...</td>\n",
       "      <td>Nov 26, 2016</td>\n",
       "      <td>12 Aug, 2015</td>\n",
       "      <td>23.0</td>\n",
       "      <td>0.0</td>\n",
       "    </tr>\n",
       "    <tr>\n",
       "      <th>2</th>\n",
       "      <td>0.000000</td>\n",
       "      <td>False</td>\n",
       "      <td>5000.0</td>\n",
       "      <td>Adventure,Casual,Indie</td>\n",
       "      <td>Single-player,Full controller support,Steam Tr...</td>\n",
       "      <td>Point &amp; Click,Adventure,Story Rich,Comedy,Indi...</td>\n",
       "      <td>Jul 2, 2018</td>\n",
       "      <td>28 Jan, 2014</td>\n",
       "      <td>3018.0</td>\n",
       "      <td>663.0</td>\n",
       "    </tr>\n",
       "    <tr>\n",
       "      <th>3</th>\n",
       "      <td>1.533333</td>\n",
       "      <td>False</td>\n",
       "      <td>9900.0</td>\n",
       "      <td>Action,RPG</td>\n",
       "      <td>Single-player,Multi-player,Steam Achievements,...</td>\n",
       "      <td>Medieval,RPG,Open World,Strategy,Sandbox,Actio...</td>\n",
       "      <td>Nov 28, 2016</td>\n",
       "      <td>31 Mar, 2010</td>\n",
       "      <td>63078.0</td>\n",
       "      <td>1746.0</td>\n",
       "    </tr>\n",
       "    <tr>\n",
       "      <th>4</th>\n",
       "      <td>22.333333</td>\n",
       "      <td>False</td>\n",
       "      <td>4800.0</td>\n",
       "      <td>Action,Indie,Strategy</td>\n",
       "      <td>Single-player,Co-op,Steam Achievements,Full co...</td>\n",
       "      <td>Tower Defense,Co-op,Action,Strategy,Online Co-...</td>\n",
       "      <td>Mar 4, 2018</td>\n",
       "      <td>30 Jul, 2012</td>\n",
       "      <td>8841.0</td>\n",
       "      <td>523.0</td>\n",
       "    </tr>\n",
       "    <tr>\n",
       "      <th>5</th>\n",
       "      <td>2.933333</td>\n",
       "      <td>False</td>\n",
       "      <td>25800.0</td>\n",
       "      <td>RPG</td>\n",
       "      <td>Single-player,Online Co-op,Local Co-op,Shared/...</td>\n",
       "      <td>RPG,Open World,Survival,Co-op,Fantasy,Online C...</td>\n",
       "      <td>NaN</td>\n",
       "      <td>26 Mar, 2019</td>\n",
       "      <td>NaN</td>\n",
       "      <td>NaN</td>\n",
       "    </tr>\n",
       "    <tr>\n",
       "      <th>6</th>\n",
       "      <td>2.616667</td>\n",
       "      <td>False</td>\n",
       "      <td>3600.0</td>\n",
       "      <td>Action,Indie</td>\n",
       "      <td>Single-player,Steam Achievements,Steam Trading...</td>\n",
       "      <td>Great Soundtrack,Action,Violent,Indie,Top-Down...</td>\n",
       "      <td>Feb 16, 2018</td>\n",
       "      <td>23 Oct, 2012</td>\n",
       "      <td>39776.0</td>\n",
       "      <td>1035.0</td>\n",
       "    </tr>\n",
       "    <tr>\n",
       "      <th>7</th>\n",
       "      <td>0.150000</td>\n",
       "      <td>True</td>\n",
       "      <td>0.0</td>\n",
       "      <td>Simulation</td>\n",
       "      <td>Single-player,Multi-player,Online Multi-Player...</td>\n",
       "      <td>VR,Simulation,Utilities,Multiplayer</td>\n",
       "      <td>Jan 29, 2018</td>\n",
       "      <td>28 Apr, 2016</td>\n",
       "      <td>33.0</td>\n",
       "      <td>3.0</td>\n",
       "    </tr>\n",
       "    <tr>\n",
       "      <th>8</th>\n",
       "      <td>0.016667</td>\n",
       "      <td>False</td>\n",
       "      <td>4000.0</td>\n",
       "      <td>Adventure,RPG</td>\n",
       "      <td>Single-player,Steam Achievements,Steam Trading...</td>\n",
       "      <td>RPG,Turn-Based,Adventure,Fantasy,Great Soundtr...</td>\n",
       "      <td>Nov 23, 2018</td>\n",
       "      <td>25 Feb, 2014</td>\n",
       "      <td>1875.0</td>\n",
       "      <td>39.0</td>\n",
       "    </tr>\n",
       "    <tr>\n",
       "      <th>9</th>\n",
       "      <td>0.016667</td>\n",
       "      <td>False</td>\n",
       "      <td>8800.0</td>\n",
       "      <td>Action,Adventure</td>\n",
       "      <td>Single-player,Steam Achievements,SteamVR Colle...</td>\n",
       "      <td>Action,Adventure,VR,Shooter,Puzzle,FPS,First-P...</td>\n",
       "      <td>Dec 22, 2017</td>\n",
       "      <td>17 Oct, 2017</td>\n",
       "      <td>47.0</td>\n",
       "      <td>11.0</td>\n",
       "    </tr>\n",
       "  </tbody>\n",
       "</table>\n",
       "</div>"
      ],
      "text/plain": [
       "    playtime_forever  is_free    price                  genres  \\\n",
       "id                                                               \n",
       "0           0.000000    False   3700.0  Adventure,Casual,Indie   \n",
       "1           0.016667     True      0.0                     RPG   \n",
       "2           0.000000    False   5000.0  Adventure,Casual,Indie   \n",
       "3           1.533333    False   9900.0              Action,RPG   \n",
       "4          22.333333    False   4800.0   Action,Indie,Strategy   \n",
       "5           2.933333    False  25800.0                     RPG   \n",
       "6           2.616667    False   3600.0            Action,Indie   \n",
       "7           0.150000     True      0.0              Simulation   \n",
       "8           0.016667    False   4000.0           Adventure,RPG   \n",
       "9           0.016667    False   8800.0        Action,Adventure   \n",
       "\n",
       "                                           categories  \\\n",
       "id                                                      \n",
       "0       Single-player,Steam Trading Cards,Steam Cloud   \n",
       "1            Single-player,Partial Controller Support   \n",
       "2   Single-player,Full controller support,Steam Tr...   \n",
       "3   Single-player,Multi-player,Steam Achievements,...   \n",
       "4   Single-player,Co-op,Steam Achievements,Full co...   \n",
       "5   Single-player,Online Co-op,Local Co-op,Shared/...   \n",
       "6   Single-player,Steam Achievements,Steam Trading...   \n",
       "7   Single-player,Multi-player,Online Multi-Player...   \n",
       "8   Single-player,Steam Achievements,Steam Trading...   \n",
       "9   Single-player,Steam Achievements,SteamVR Colle...   \n",
       "\n",
       "                                                 tags purchase_date  \\\n",
       "id                                                                    \n",
       "0   Indie,Adventure,Story Rich,Casual,Atmospheric,...   Jul 2, 2018   \n",
       "1   Mod,Utilities,RPG,Game Development,Singleplaye...  Nov 26, 2016   \n",
       "2   Point & Click,Adventure,Story Rich,Comedy,Indi...   Jul 2, 2018   \n",
       "3   Medieval,RPG,Open World,Strategy,Sandbox,Actio...  Nov 28, 2016   \n",
       "4   Tower Defense,Co-op,Action,Strategy,Online Co-...   Mar 4, 2018   \n",
       "5   RPG,Open World,Survival,Co-op,Fantasy,Online C...           NaN   \n",
       "6   Great Soundtrack,Action,Violent,Indie,Top-Down...  Feb 16, 2018   \n",
       "7                 VR,Simulation,Utilities,Multiplayer  Jan 29, 2018   \n",
       "8   RPG,Turn-Based,Adventure,Fantasy,Great Soundtr...  Nov 23, 2018   \n",
       "9   Action,Adventure,VR,Shooter,Puzzle,FPS,First-P...  Dec 22, 2017   \n",
       "\n",
       "    release_date  total_positive_reviews  total_negative_reviews  \n",
       "id                                                                \n",
       "0   10 Dec, 2013                   372.0                    96.0  \n",
       "1   12 Aug, 2015                    23.0                     0.0  \n",
       "2   28 Jan, 2014                  3018.0                   663.0  \n",
       "3   31 Mar, 2010                 63078.0                  1746.0  \n",
       "4   30 Jul, 2012                  8841.0                   523.0  \n",
       "5   26 Mar, 2019                     NaN                     NaN  \n",
       "6   23 Oct, 2012                 39776.0                  1035.0  \n",
       "7   28 Apr, 2016                    33.0                     3.0  \n",
       "8   25 Feb, 2014                  1875.0                    39.0  \n",
       "9   17 Oct, 2017                    47.0                    11.0  "
      ]
     },
     "execution_count": 200,
     "metadata": {},
     "output_type": "execute_result"
    }
   ],
   "source": [
    "data.head(10)"
   ]
  },
  {
   "cell_type": "markdown",
   "metadata": {},
   "source": [
    "## Data preprocessing\n",
    "playtime_forever: output\\\n",
    "is_free: boolean => map 0/1\\\n",
    "price: discrete number => scaling\\\n",
    "genres: string => split and dummy (pivot)\\\n",
    "categories: stirng => split and dummy (pivot)\\\n",
    "tags: string => count its numbers of letter and catogorize\\\n",
    "purchase_date, release_date: date => convert to stamptime and count the differece bewteen them as well as now\\\n",
    "total_positive_reviews: float => scaling\\\n",
    "total_negative_reviews: float => scaling"
   ]
  },
  {
   "cell_type": "code",
   "execution_count": 201,
   "metadata": {},
   "outputs": [],
   "source": [
    "# is_free: boolean => map 0/1\n",
    "data['is_free'] = data['is_free'].map({False:0, True:1})"
   ]
  },
  {
   "cell_type": "code",
   "execution_count": 202,
   "metadata": {},
   "outputs": [
    {
     "data": {
      "text/plain": [
       "id\n",
       "220    15999900.0\n",
       "312     6999900.0\n",
       "133       30800.0\n",
       "91        29900.0\n",
       "140       26800.0\n",
       "Name: price, dtype: float64"
      ]
     },
     "execution_count": 202,
     "metadata": {},
     "output_type": "execute_result"
    }
   ],
   "source": [
    "# price: discrete number => scaling\n",
    "data['price'].nlargest(5)"
   ]
  },
  {
   "cell_type": "code",
   "execution_count": 203,
   "metadata": {},
   "outputs": [],
   "source": [
    "# Top 2 is way larger and may have negative effect to the whole dataset. So will be removed.\n",
    "data = data.drop(data['price'].nlargest(2).index)"
   ]
  },
  {
   "cell_type": "code",
   "execution_count": 204,
   "metadata": {},
   "outputs": [
    {
     "data": {
      "text/plain": [
       "count      355.000000\n",
       "mean      6845.912676\n",
       "std       5067.323386\n",
       "min          0.000000\n",
       "25%       3600.000000\n",
       "50%       6800.000000\n",
       "75%       9000.000000\n",
       "max      30800.000000\n",
       "Name: price, dtype: float64"
      ]
     },
     "execution_count": 204,
     "metadata": {},
     "output_type": "execute_result"
    }
   ],
   "source": [
    "data['price'].describe()"
   ]
  },
  {
   "cell_type": "code",
   "execution_count": 205,
   "metadata": {},
   "outputs": [],
   "source": [
    "# It doesn't meet the std. So we scale it by MinMaxScaler\n",
    "price_scaler = MinMaxScaler()\n",
    "price_scaler.fit(data['price'].values.reshape(-1,1))\n",
    "price_scaled = price_scaler.fit_transform(data['price'].values.reshape(-1,1))"
   ]
  },
  {
   "cell_type": "code",
   "execution_count": 206,
   "metadata": {},
   "outputs": [],
   "source": [
    "data['price'] = price_scaled"
   ]
  },
  {
   "cell_type": "code",
   "execution_count": 207,
   "metadata": {},
   "outputs": [
    {
     "data": {
      "text/plain": [
       "0"
      ]
     },
     "execution_count": 207,
     "metadata": {},
     "output_type": "execute_result"
    }
   ],
   "source": [
    "# genres: string => split and dummy (pivot)\n",
    "data['genres'].isna().sum()"
   ]
  },
  {
   "cell_type": "code",
   "execution_count": 208,
   "metadata": {},
   "outputs": [],
   "source": [
    "genres_split = data['genres'].apply(lambda x: x.strip().split(\",\"))"
   ]
  },
  {
   "cell_type": "code",
   "execution_count": 209,
   "metadata": {},
   "outputs": [],
   "source": [
    "genres = pd.get_dummies(genres_split.apply(pd.Series).stack()).sum(level=0)"
   ]
  },
  {
   "cell_type": "code",
   "execution_count": 210,
   "metadata": {},
   "outputs": [],
   "source": [
    "genres.columns = pd.MultiIndex.from_product([['genres'], genres.columns])"
   ]
  },
  {
   "cell_type": "code",
   "execution_count": 211,
   "metadata": {},
   "outputs": [],
   "source": [
    "data = data.drop(columns=['genres'])"
   ]
  },
  {
   "cell_type": "code",
   "execution_count": 212,
   "metadata": {},
   "outputs": [],
   "source": [
    "data = pd.concat([data, genres], axis=1)"
   ]
  },
  {
   "cell_type": "code",
   "execution_count": 213,
   "metadata": {
    "scrolled": true
   },
   "outputs": [
    {
     "data": {
      "text/plain": [
       "0"
      ]
     },
     "execution_count": 213,
     "metadata": {},
     "output_type": "execute_result"
    }
   ],
   "source": [
    "# categories: stirng => split and dummy (pivot)\n",
    "data['categories'].isna().sum()"
   ]
  },
  {
   "cell_type": "code",
   "execution_count": 214,
   "metadata": {},
   "outputs": [],
   "source": [
    "categories_split = data['categories'].apply(lambda x: x.strip().split(\",\"))\n",
    "categories = pd.get_dummies(categories_split.apply(pd.Series).stack()).sum(level=0)\n",
    "categories.columns = pd.MultiIndex.from_product([['categories'], categories.columns])\n",
    "data = data.drop(columns=['categories'])\n",
    "data = pd.concat([data, categories], axis=1)"
   ]
  },
  {
   "cell_type": "code",
   "execution_count": 215,
   "metadata": {},
   "outputs": [
    {
     "data": {
      "text/plain": [
       "0"
      ]
     },
     "execution_count": 215,
     "metadata": {},
     "output_type": "execute_result"
    }
   ],
   "source": [
    "# tags: string => count its numbers of letter and catogorize\n",
    "data['tags'].isna().sum()"
   ]
  },
  {
   "cell_type": "code",
   "execution_count": 216,
   "metadata": {},
   "outputs": [],
   "source": [
    "data['tags'] = data['tags'].apply(len)"
   ]
  },
  {
   "cell_type": "code",
   "execution_count": 217,
   "metadata": {},
   "outputs": [
    {
     "data": {
      "text/plain": [
       "count    355.000000\n",
       "mean     179.230986\n",
       "std       52.983769\n",
       "min        8.000000\n",
       "25%      170.000000\n",
       "50%      197.000000\n",
       "75%      213.000000\n",
       "max      255.000000\n",
       "Name: tags, dtype: float64"
      ]
     },
     "execution_count": 217,
     "metadata": {},
     "output_type": "execute_result"
    }
   ],
   "source": [
    "data['tags'].describe()"
   ]
  },
  {
   "cell_type": "code",
   "execution_count": 218,
   "metadata": {},
   "outputs": [],
   "source": [
    "data.loc[data['tags'] <= 170, 'tags'] = 0\n",
    "data.loc[(data['tags'] > 170) & (data['tags'] <= 197), 'tags'] = 0.25\n",
    "data.loc[(data['tags'] > 197) & (data['tags'] <= 213), 'tags'] = 0.5\n",
    "data.loc[data['tags'] > 213, 'tags'] = 1"
   ]
  },
  {
   "cell_type": "code",
   "execution_count": 219,
   "metadata": {},
   "outputs": [
    {
     "data": {
      "text/plain": [
       "2"
      ]
     },
     "execution_count": 219,
     "metadata": {},
     "output_type": "execute_result"
    }
   ],
   "source": [
    "# purchase_date, release_date: date => convert to stamptime and count the differece bewteen them as well as now\n",
    "data['purchase_date'].isna().sum()"
   ]
  },
  {
   "cell_type": "code",
   "execution_count": 220,
   "metadata": {},
   "outputs": [],
   "source": [
    "# Drop the examples with NaN value\n",
    "data = data.drop(data.loc[data['purchase_date'].isna(), :].index)"
   ]
  },
  {
   "cell_type": "code",
   "execution_count": 221,
   "metadata": {},
   "outputs": [],
   "source": [
    "data['purchase_date'] = data['purchase_date'].apply(lambda x: datetime.strptime(x, '%b %d, %Y'))"
   ]
  },
  {
   "cell_type": "code",
   "execution_count": 222,
   "metadata": {},
   "outputs": [
    {
     "data": {
      "text/plain": [
       "0"
      ]
     },
     "execution_count": 222,
     "metadata": {},
     "output_type": "execute_result"
    }
   ],
   "source": [
    "data['release_date'].isna().sum()"
   ]
  },
  {
   "cell_type": "code",
   "execution_count": 223,
   "metadata": {},
   "outputs": [],
   "source": [
    "data.loc[data['release_date'] == 'Nov 10, 2016', 'release_date'] = '10 Nov, 2016' # Exception "
   ]
  },
  {
   "cell_type": "code",
   "execution_count": 224,
   "metadata": {},
   "outputs": [],
   "source": [
    "data['release_date'] = data['release_date'].apply(lambda x: datetime.strptime(x, '%d %b, %Y'))"
   ]
  },
  {
   "cell_type": "code",
   "execution_count": 225,
   "metadata": {},
   "outputs": [],
   "source": [
    "data['day_btn_purchase_release'] = (data['purchase_date'] - data['release_date']).dt.days"
   ]
  },
  {
   "cell_type": "code",
   "execution_count": 226,
   "metadata": {},
   "outputs": [],
   "source": [
    "data['day_btn_2020_purchase'] = (datetime(2020,1,1)-data['purchase_date']).dt.days"
   ]
  },
  {
   "cell_type": "code",
   "execution_count": 227,
   "metadata": {},
   "outputs": [
    {
     "data": {
      "text/plain": [
       "4320"
      ]
     },
     "execution_count": 227,
     "metadata": {},
     "output_type": "execute_result"
    }
   ],
   "source": [
    "# scaling day\n",
    "data['day_btn_purchase_release'].max()"
   ]
  },
  {
   "cell_type": "code",
   "execution_count": 228,
   "metadata": {},
   "outputs": [
    {
     "data": {
      "text/plain": [
       "-481"
      ]
     },
     "execution_count": 228,
     "metadata": {},
     "output_type": "execute_result"
    }
   ],
   "source": [
    "data['day_btn_purchase_release'].min()"
   ]
  },
  {
   "cell_type": "code",
   "execution_count": 229,
   "metadata": {},
   "outputs": [],
   "source": [
    "# data['day_btn_purchase_release'] divided by 5000\n",
    "data['day_btn_purchase_release'] = data['day_btn_purchase_release'] / 5000"
   ]
  },
  {
   "cell_type": "code",
   "execution_count": 230,
   "metadata": {},
   "outputs": [
    {
     "data": {
      "text/plain": [
       "1612"
      ]
     },
     "execution_count": 230,
     "metadata": {},
     "output_type": "execute_result"
    }
   ],
   "source": [
    "data['day_btn_2020_purchase'].max()"
   ]
  },
  {
   "cell_type": "code",
   "execution_count": 231,
   "metadata": {},
   "outputs": [
    {
     "data": {
      "text/plain": [
       "116"
      ]
     },
     "execution_count": 231,
     "metadata": {},
     "output_type": "execute_result"
    }
   ],
   "source": [
    "data['day_btn_2020_purchase'].min()"
   ]
  },
  {
   "cell_type": "code",
   "execution_count": 232,
   "metadata": {},
   "outputs": [],
   "source": [
    "# data['day_btn_2020_purchase'] divided by 2000\n",
    "data['day_btn_2020_purchase'] = data['day_btn_2020_purchase'] / 2000"
   ]
  },
  {
   "cell_type": "code",
   "execution_count": 233,
   "metadata": {},
   "outputs": [],
   "source": [
    "# Remove purchase_date and release_date\n",
    "data = data.drop(columns=['purchase_date', 'release_date'])"
   ]
  },
  {
   "cell_type": "code",
   "execution_count": 234,
   "metadata": {},
   "outputs": [
    {
     "data": {
      "text/plain": [
       "<matplotlib.collections.PathCollection at 0x1a1c2a3518>"
      ]
     },
     "execution_count": 234,
     "metadata": {},
     "output_type": "execute_result"
    },
    {
     "data": {
      "image/png": "[encoded data removed]",
      "text/plain": [
       "<Figure size 432x288 with 1 Axes>"
      ]
     },
     "metadata": {
      "needs_background": "light"
     },
     "output_type": "display_data"
    }
   ],
   "source": [
    "# Inspect the correlation bewteen the play time and positive comment\n",
    "plt.scatter(x=data['total_positive_reviews'], y=data['playtime_forever'])"
   ]
  },
  {
   "cell_type": "code",
   "execution_count": 235,
   "metadata": {},
   "outputs": [
    {
     "data": {
      "text/plain": [
       "<matplotlib.collections.PathCollection at 0x1a1bf8dc50>"
      ]
     },
     "execution_count": 235,
     "metadata": {},
     "output_type": "execute_result"
    },
    {
     "data": {
      "image/png": "[encoded data removed]",
      "text/plain": [
       "<Figure size 432x288 with 1 Axes>"
      ]
     },
     "metadata": {
      "needs_background": "light"
     },
     "output_type": "display_data"
    }
   ],
   "source": [
    "plt.scatter(x=data['total_negative_reviews'], y=data['playtime_forever'])"
   ]
  },
  {
   "cell_type": "code",
   "execution_count": 236,
   "metadata": {},
   "outputs": [
    {
     "data": {
      "text/plain": [
       "440902.0"
      ]
     },
     "execution_count": 236,
     "metadata": {},
     "output_type": "execute_result"
    }
   ],
   "source": [
    "# So just scalling\n",
    "data['total_positive_reviews'].max()"
   ]
  },
  {
   "cell_type": "code",
   "execution_count": 237,
   "metadata": {},
   "outputs": [],
   "source": [
    "# Divided by 100000\n",
    "data['total_positive_reviews'] = data['total_positive_reviews'] / 100000"
   ]
  },
  {
   "cell_type": "code",
   "execution_count": 238,
   "metadata": {},
   "outputs": [
    {
     "data": {
      "text/plain": [
       "436046.0"
      ]
     },
     "execution_count": 238,
     "metadata": {},
     "output_type": "execute_result"
    }
   ],
   "source": [
    "data['total_negative_reviews'].max()"
   ]
  },
  {
   "cell_type": "code",
   "execution_count": 239,
   "metadata": {},
   "outputs": [],
   "source": [
    "# Divided by 100000\n",
    "data['total_negative_reviews'] = data['total_negative_reviews'] / 100000"
   ]
  },
  {
   "cell_type": "code",
   "execution_count": 240,
   "metadata": {},
   "outputs": [],
   "source": [
    "# Save the prepocsssing data\n",
    "data.to_csv('prepocessed_data.csv')"
   ]
  },
  {
   "cell_type": "markdown",
   "metadata": {},
   "source": [
    "## Data split"
   ]
  },
  {
   "cell_type": "code",
   "execution_count": 241,
   "metadata": {},
   "outputs": [],
   "source": [
    "X = data.drop(columns=['playtime_forever'])\n",
    "y = data['playtime_forever']"
   ]
  },
  {
   "cell_type": "code",
   "execution_count": 242,
   "metadata": {},
   "outputs": [],
   "source": [
    "X_train, X_test, y_train, y_test = train_test_split(X, y, test_size=0.1, random_state=42)"
   ]
  },
  {
   "cell_type": "markdown",
   "metadata": {},
   "source": [
    "## Train Model"
   ]
  },
  {
   "cell_type": "code",
   "execution_count": 243,
   "metadata": {},
   "outputs": [
    {
     "data": {
      "text/plain": [
       "SVR(C=1.0, cache_size=200, coef0=0.0, degree=3, epsilon=0.1,\n",
       "    gamma='auto_deprecated', kernel='rbf', max_iter=-1, shrinking=True,\n",
       "    tol=0.001, verbose=False)"
      ]
     },
     "execution_count": 243,
     "metadata": {},
     "output_type": "execute_result"
    }
   ],
   "source": [
    "svr = svm.SVR()\n",
    "svr.fit(X_train, y_train) "
   ]
  },
  {
   "cell_type": "code",
   "execution_count": 244,
   "metadata": {
    "scrolled": true
   },
   "outputs": [
    {
     "data": {
      "text/plain": [
       "MLPRegressor(activation='relu', alpha=0.0001, batch_size=2, beta_1=0.9,\n",
       "             beta_2=0.999, early_stopping=False, epsilon=1e-08,\n",
       "             hidden_layer_sizes=(100,), learning_rate='constant',\n",
       "             learning_rate_init=0.001, max_iter=10000, momentum=0.9,\n",
       "             n_iter_no_change=10, nesterovs_momentum=True, power_t=0.5,\n",
       "             random_state=None, shuffle=True, solver='adam', tol=0.0001,\n",
       "             validation_fraction=0.1, verbose=False, warm_start=False)"
      ]
     },
     "execution_count": 244,
     "metadata": {},
     "output_type": "execute_result"
    }
   ],
   "source": [
    "mlp = MLPRegressor(batch_size=2, max_iter=10000)\n",
    "mlp.fit(X_train, y_train) "
   ]
  },
  {
   "cell_type": "code",
   "execution_count": 245,
   "metadata": {},
   "outputs": [
    {
     "data": {
      "text/plain": [
       "AdaBoostRegressor(base_estimator=None, learning_rate=1.0, loss='linear',\n",
       "                  n_estimators=100, random_state=0)"
      ]
     },
     "execution_count": 245,
     "metadata": {},
     "output_type": "execute_result"
    }
   ],
   "source": [
    "ada = AdaBoostRegressor(random_state=0, n_estimators=100)\n",
    "ada.fit(X_train, y_train)  "
   ]
  },
  {
   "cell_type": "code",
   "execution_count": 256,
   "metadata": {},
   "outputs": [
    {
     "data": {
      "text/plain": [
       "RandomForestRegressor(bootstrap=True, criterion='mse', max_depth=None,\n",
       "                      max_features='auto', max_leaf_nodes=None,\n",
       "                      min_impurity_decrease=0.0, min_impurity_split=None,\n",
       "                      min_samples_leaf=1, min_samples_split=2,\n",
       "                      min_weight_fraction_leaf=0.0, n_estimators=10,\n",
       "                      n_jobs=None, oob_score=False, random_state=None,\n",
       "                      verbose=0, warm_start=False)"
      ]
     },
     "execution_count": 256,
     "metadata": {},
     "output_type": "execute_result"
    }
   ],
   "source": [
    "rdf = RandomForestRegressor()\n",
    "rdf.fit(X_train, y_train)"
   ]
  },
  {
   "cell_type": "code",
   "execution_count": 247,
   "metadata": {},
   "outputs": [
    {
     "data": {
      "text/plain": [
       "KNeighborsRegressor(algorithm='auto', leaf_size=30, metric='minkowski',\n",
       "                    metric_params=None, n_jobs=None, n_neighbors=5, p=2,\n",
       "                    weights='uniform')"
      ]
     },
     "execution_count": 247,
     "metadata": {},
     "output_type": "execute_result"
    }
   ],
   "source": [
    "knn = KNeighborsRegressor()\n",
    "knn.fit(X_train, y_train)"
   ]
  },
  {
   "cell_type": "code",
   "execution_count": 248,
   "metadata": {},
   "outputs": [
    {
     "name": "stdout",
     "output_type": "stream",
     "text": [
      "[14:45:19] WARNING: src/objective/regression_obj.cu:152: reg:linear is now deprecated in favor of reg:squarederror.\n"
     ]
    },
    {
     "data": {
      "text/plain": [
       "XGBRegressor(base_score=0.5, booster='gbtree', colsample_bylevel=1,\n",
       "             colsample_bynode=1, colsample_bytree=1, gamma=0,\n",
       "             importance_type='gain', learning_rate=0.1, max_delta_step=0,\n",
       "             max_depth=3, min_child_weight=1, missing=None, n_estimators=1000,\n",
       "             n_jobs=1, nthread=None, objective='reg:linear', random_state=0,\n",
       "             reg_alpha=0, reg_lambda=1, scale_pos_weight=1, seed=None,\n",
       "             silent=None, subsample=1, verbosity=1)"
      ]
     },
     "execution_count": 248,
     "metadata": {},
     "output_type": "execute_result"
    }
   ],
   "source": [
    "xgb = XGBRegressor(n_estimators=1000, learning_rate=0.1)\n",
    "xgb.fit(X_train, y_train)"
   ]
  },
  {
   "cell_type": "markdown",
   "metadata": {},
   "source": [
    "## Evaluate the models"
   ]
  },
  {
   "cell_type": "code",
   "execution_count": 249,
   "metadata": {},
   "outputs": [
    {
     "data": {
      "text/plain": [
       "2.4830390685830945"
      ]
     },
     "execution_count": 249,
     "metadata": {},
     "output_type": "execute_result"
    }
   ],
   "source": [
    "np.sqrt(mean_squared_error(svr.predict(X_test), y_test))"
   ]
  },
  {
   "cell_type": "code",
   "execution_count": 250,
   "metadata": {
    "scrolled": true
   },
   "outputs": [
    {
     "data": {
      "text/plain": [
       "9.418760435256234"
      ]
     },
     "execution_count": 250,
     "metadata": {},
     "output_type": "execute_result"
    }
   ],
   "source": [
    "np.sqrt(mean_squared_error(mlp.predict(X_test), y_test))"
   ]
  },
  {
   "cell_type": "code",
   "execution_count": 251,
   "metadata": {
    "scrolled": true
   },
   "outputs": [
    {
     "data": {
      "text/plain": [
       "8.157201778785913"
      ]
     },
     "execution_count": 251,
     "metadata": {},
     "output_type": "execute_result"
    }
   ],
   "source": [
    "np.sqrt(mean_squared_error(ada.predict(X_test), y_test))"
   ]
  },
  {
   "cell_type": "code",
   "execution_count": 257,
   "metadata": {},
   "outputs": [
    {
     "data": {
      "text/plain": [
       "4.6195742197979905"
      ]
     },
     "execution_count": 257,
     "metadata": {},
     "output_type": "execute_result"
    }
   ],
   "source": [
    "np.sqrt(mean_squared_error(rdf.predict(X_test), y_test))"
   ]
  },
  {
   "cell_type": "code",
   "execution_count": 253,
   "metadata": {
    "scrolled": true
   },
   "outputs": [
    {
     "data": {
      "text/plain": [
       "3.640029719387562"
      ]
     },
     "execution_count": 253,
     "metadata": {},
     "output_type": "execute_result"
    }
   ],
   "source": [
    "np.sqrt(mean_squared_error(knn.predict(X_test), y_test))"
   ]
  },
  {
   "cell_type": "code",
   "execution_count": 254,
   "metadata": {
    "scrolled": true
   },
   "outputs": [
    {
     "data": {
      "text/plain": [
       "4.831834594465328"
      ]
     },
     "execution_count": 254,
     "metadata": {},
     "output_type": "execute_result"
    }
   ],
   "source": [
    "np.sqrt(mean_squared_error(xgb.predict(X_test), y_test))"
   ]
  },
  {
   "cell_type": "code",
   "execution_count": 189,
   "metadata": {},
   "outputs": [
    {
     "name": "stdout",
     "output_type": "stream",
     "text": [
      "[14:39:47] WARNING: src/objective/regression_obj.cu:152: reg:linear is now deprecated in favor of reg:squarederror.\n"
     ]
    },
    {
     "data": {
      "text/plain": [
       "5.26200658665984"
      ]
     },
     "execution_count": 189,
     "metadata": {},
     "output_type": "execute_result"
    }
   ],
   "source": [
    "vonderland_xgb = XGBRegressor(n_estimators=100,\n",
    "                    learning_rate = .01,\n",
    "                    max_depth = 4,\n",
    "                    random_state=42,\n",
    "                    n_jobs = -1,\n",
    "                    early_stopping_rounds=10)\n",
    "vonderland_xgb.fit(X_train, y_train)\n",
    "np.sqrt(mean_squared_error(vonderland_xgb.predict(X_test), y_test))"
   ]
  },
  {
   "cell_type": "code",
   "execution_count": 190,
   "metadata": {
    "scrolled": true
   },
   "outputs": [
    {
     "data": {
      "text/plain": [
       "5.020242717084808"
      ]
     },
     "execution_count": 190,
     "metadata": {},
     "output_type": "execute_result"
    }
   ],
   "source": [
    "vonderland_rdf = RandomForestRegressor(n_estimators=60, oob_score=True, random_state=1)\n",
    "vonderland_rdf.fit(X_train, y_train)\n",
    "np.sqrt(mean_squared_error(vonderland_rdf.predict(X_test), y_test))"
   ]
  },
  {
   "cell_type": "markdown",
   "metadata": {},
   "source": [
    "## Cross Validation"
   ]
  },
  {
   "cell_type": "code",
   "execution_count": 255,
   "metadata": {},
   "outputs": [
    {
     "data": {
      "text/plain": [
       "132.80108822024388"
      ]
     },
     "execution_count": 255,
     "metadata": {},
     "output_type": "execute_result"
    }
   ],
   "source": [
    "-1 * cross_val_score(svr, X, y,\n",
    "                              cv=5,\n",
    "                              scoring='neg_mean_squared_error').mean()"
   ]
  },
  {
   "cell_type": "code",
   "execution_count": 191,
   "metadata": {
    "scrolled": true
   },
   "outputs": [
    {
     "name": "stdout",
     "output_type": "stream",
     "text": [
      "[14:39:53] WARNING: src/objective/regression_obj.cu:152: reg:linear is now deprecated in favor of reg:squarederror.\n",
      "[14:39:53] WARNING: src/objective/regression_obj.cu:152: reg:linear is now deprecated in favor of reg:squarederror.\n",
      "[14:39:54] WARNING: src/objective/regression_obj.cu:152: reg:linear is now deprecated in favor of reg:squarederror.\n",
      "[14:39:54] WARNING: src/objective/regression_obj.cu:152: reg:linear is now deprecated in favor of reg:squarederror.\n",
      "[14:39:54] WARNING: src/objective/regression_obj.cu:152: reg:linear is now deprecated in favor of reg:squarederror.\n"
     ]
    },
    {
     "data": {
      "text/plain": [
       "129.24490775103007"
      ]
     },
     "execution_count": 191,
     "metadata": {},
     "output_type": "execute_result"
    }
   ],
   "source": [
    "-1 * cross_val_score(vonderland_xgb, X, y,\n",
    "                              cv=5,\n",
    "                              scoring='neg_mean_squared_error').mean()"
   ]
  },
  {
   "cell_type": "code",
   "execution_count": 192,
   "metadata": {},
   "outputs": [
    {
     "data": {
      "text/plain": [
       "124.5117565287807"
      ]
     },
     "execution_count": 192,
     "metadata": {},
     "output_type": "execute_result"
    }
   ],
   "source": [
    "-1 * cross_val_score(vonderland_rdf, X, y,\n",
    "                              cv=5,\n",
    "                              scoring='neg_mean_squared_error').mean()"
   ]
  },
  {
   "cell_type": "code",
   "execution_count": 193,
   "metadata": {},
   "outputs": [
    {
     "name": "stdout",
     "output_type": "stream",
     "text": [
      "[14:39:58] WARNING: src/objective/regression_obj.cu:152: reg:linear is now deprecated in favor of reg:squarederror.\n",
      "[14:39:59] WARNING: src/objective/regression_obj.cu:152: reg:linear is now deprecated in favor of reg:squarederror.\n",
      "[14:40:00] WARNING: src/objective/regression_obj.cu:152: reg:linear is now deprecated in favor of reg:squarederror.\n",
      "[14:40:00] WARNING: src/objective/regression_obj.cu:152: reg:linear is now deprecated in favor of reg:squarederror.\n",
      "[14:40:01] WARNING: src/objective/regression_obj.cu:152: reg:linear is now deprecated in favor of reg:squarederror.\n"
     ]
    },
    {
     "data": {
      "text/plain": [
       "139.08270166123356"
      ]
     },
     "execution_count": 193,
     "metadata": {},
     "output_type": "execute_result"
    }
   ],
   "source": [
    "-1 * cross_val_score(xgb, X, y,\n",
    "                              cv=5,\n",
    "                              scoring='neg_mean_squared_error').mean()"
   ]
  },
  {
   "cell_type": "code",
   "execution_count": 272,
   "metadata": {},
   "outputs": [
    {
     "data": {
      "text/plain": [
       "151.66805365299825"
      ]
     },
     "execution_count": 272,
     "metadata": {},
     "output_type": "execute_result"
    }
   ],
   "source": [
    "rdf = RandomForestRegressor()\n",
    "-1 * cross_val_score(rdf, X, y,\n",
    "                              cv=10,\n",
    "                              scoring='neg_mean_squared_error').mean()"
   ]
  },
  {
   "cell_type": "code",
   "execution_count": 273,
   "metadata": {},
   "outputs": [
    {
     "data": {
      "text/plain": [
       "132.06268981804152"
      ]
     },
     "execution_count": 273,
     "metadata": {},
     "output_type": "execute_result"
    }
   ],
   "source": [
    "rdf = RandomForestRegressor(n_estimators=56)\n",
    "-1 * cross_val_score(rdf, X, y,\n",
    "                              cv=10,\n",
    "                              scoring='neg_mean_squared_error').mean()"
   ]
  },
  {
   "cell_type": "code",
   "execution_count": 276,
   "metadata": {},
   "outputs": [
    {
     "data": {
      "text/plain": [
       "133.06547460898486"
      ]
     },
     "execution_count": 276,
     "metadata": {},
     "output_type": "execute_result"
    }
   ],
   "source": [
    "rdf = RandomForestRegressor(n_estimators=56,)\n",
    "-1 * cross_val_score(rdf, X, y,\n",
    "                              cv=10,\n",
    "                              scoring='neg_mean_squared_error').mean()"
   ]
  },
  {
   "cell_type": "markdown",
   "metadata": {},
   "source": [
    "## Hyperparameter tuning"
   ]
  },
  {
   "cell_type": "code",
   "execution_count": 324,
   "metadata": {},
   "outputs": [],
   "source": [
    "# Random forest"
   ]
  },
  {
   "cell_type": "code",
   "execution_count": 286,
   "metadata": {
    "scrolled": true
   },
   "outputs": [
    {
     "name": "stdout",
     "output_type": "stream",
     "text": [
      "Fitting 5 folds for each of 100 candidates, totalling 500 fits\n"
     ]
    },
    {
     "name": "stderr",
     "output_type": "stream",
     "text": [
      "[Parallel(n_jobs=-1)]: Using backend LokyBackend with 4 concurrent workers.\n",
      "[Parallel(n_jobs=-1)]: Done  33 tasks      | elapsed:   11.8s\n",
      "[Parallel(n_jobs=-1)]: Done 154 tasks      | elapsed:  1.0min\n",
      "[Parallel(n_jobs=-1)]: Done 357 tasks      | elapsed:  2.3min\n",
      "[Parallel(n_jobs=-1)]: Done 500 out of 500 | elapsed:  3.1min finished\n"
     ]
    },
    {
     "data": {
      "text/plain": [
       "RandomizedSearchCV(cv=5, error_score='raise-deprecating',\n",
       "                   estimator=RandomForestRegressor(bootstrap=True,\n",
       "                                                   criterion='mse',\n",
       "                                                   max_depth=None,\n",
       "                                                   max_features='auto',\n",
       "                                                   max_leaf_nodes=None,\n",
       "                                                   min_impurity_decrease=0.0,\n",
       "                                                   min_impurity_split=None,\n",
       "                                                   min_samples_leaf=1,\n",
       "                                                   min_samples_split=2,\n",
       "                                                   min_weight_fraction_leaf=0.0,\n",
       "                                                   n_estimators='warn',\n",
       "                                                   n_jobs=None, oob_score=False,\n",
       "                                                   random_sta...\n",
       "                   iid='warn', n_iter=100, n_jobs=-1,\n",
       "                   param_distributions={'bootstrap': [True, False],\n",
       "                                        'max_depth': [10, 20, 30, 40, 50, 60,\n",
       "                                                      70, 80, 90, 100, 110,\n",
       "                                                      None],\n",
       "                                        'max_features': ['auto', 'sqrt'],\n",
       "                                        'min_samples_leaf': [1, 2, 4],\n",
       "                                        'min_samples_split': [2, 5, 10],\n",
       "                                        'n_estimators': [56, 174, 292, 410, 528,\n",
       "                                                         647, 765, 883, 1001,\n",
       "                                                         1120]},\n",
       "                   pre_dispatch='2*n_jobs', random_state=42, refit=True,\n",
       "                   return_train_score=False, scoring=None, verbose=2)"
      ]
     },
     "execution_count": 286,
     "metadata": {},
     "output_type": "execute_result"
    }
   ],
   "source": [
    "from sklearn.model_selection import RandomizedSearchCV# Number of trees in random forest\n",
    "n_estimators = [int(x) for x in np.linspace(start = 56, stop = 1120, num = 10)]\n",
    "# Number of features to consider at every split\n",
    "max_features = ['auto', 'sqrt']\n",
    "# Maximum number of levels in tree\n",
    "max_depth = [int(x) for x in np.linspace(10, 110, num = 11)]\n",
    "max_depth.append(None)\n",
    "# Minimum number of samples required to split a node\n",
    "min_samples_split = [2, 5, 10]\n",
    "# Minimum number of samples required at each leaf node\n",
    "min_samples_leaf = [1, 2, 4]\n",
    "# Method of selecting samples for training each tree\n",
    "bootstrap = [True, False]# Create the random grid\n",
    "random_grid = {'n_estimators': n_estimators,\n",
    "               'max_features': max_features,\n",
    "               'max_depth': max_depth,\n",
    "               'min_samples_split': min_samples_split,\n",
    "               'min_samples_leaf': min_samples_leaf,\n",
    "               'bootstrap': bootstrap}\n",
    "rdf = RandomForestRegressor()\n",
    "rdf_random = RandomizedSearchCV(estimator = rdf, param_distributions = random_grid, n_iter = 100, cv = 5, verbose=2, random_state=42, n_jobs = -1)\n",
    "\n",
    "# Fit the random search model\n",
    "rdf_random.fit(X_train, y_train)"
   ]
  },
  {
   "cell_type": "code",
   "execution_count": 287,
   "metadata": {
    "scrolled": true
   },
   "outputs": [
    {
     "data": {
      "text/plain": [
       "{'n_estimators': 174,\n",
       " 'min_samples_split': 10,\n",
       " 'min_samples_leaf': 4,\n",
       " 'max_features': 'sqrt',\n",
       " 'max_depth': 90,\n",
       " 'bootstrap': True}"
      ]
     },
     "execution_count": 287,
     "metadata": {},
     "output_type": "execute_result"
    }
   ],
   "source": [
    "rdf_random.best_params_"
   ]
  },
  {
   "cell_type": "code",
   "execution_count": 288,
   "metadata": {
    "scrolled": true
   },
   "outputs": [
    {
     "data": {
      "text/plain": [
       "109.38248676330404"
      ]
     },
     "execution_count": 288,
     "metadata": {},
     "output_type": "execute_result"
    }
   ],
   "source": [
    "rdf = RandomForestRegressor(n_estimators=174, \n",
    "                            min_samples_split=10,\n",
    "                            min_samples_leaf=4,\n",
    "                            max_features='sqrt', \n",
    "                            max_depth=90, \n",
    "                            bootstrap=True)\n",
    "-1 * cross_val_score(rdf, X, y,\n",
    "                              cv=10,\n",
    "                              scoring='neg_mean_squared_error').mean()"
   ]
  },
  {
   "cell_type": "code",
   "execution_count": 378,
   "metadata": {},
   "outputs": [
    {
     "name": "stdout",
     "output_type": "stream",
     "text": [
      "Fitting 5 folds for each of 100 candidates, totalling 500 fits\n"
     ]
    },
    {
     "name": "stderr",
     "output_type": "stream",
     "text": [
      "[Parallel(n_jobs=-1)]: Using backend LokyBackend with 4 concurrent workers.\n",
      "[Parallel(n_jobs=-1)]: Done  33 tasks      | elapsed:   10.8s\n",
      "[Parallel(n_jobs=-1)]: Done 154 tasks      | elapsed:   38.7s\n",
      "[Parallel(n_jobs=-1)]: Done 357 tasks      | elapsed:  1.3min\n",
      "[Parallel(n_jobs=-1)]: Done 500 out of 500 | elapsed:  1.7min finished\n"
     ]
    },
    {
     "data": {
      "text/plain": [
       "RandomizedSearchCV(cv=5, error_score='raise-deprecating',\n",
       "                   estimator=XGBRegressor(base_score=0.5, booster='gbtree',\n",
       "                                          colsample_bylevel=1,\n",
       "                                          colsample_bynode=1,\n",
       "                                          colsample_bytree=1, gamma=0,\n",
       "                                          importance_type='gain',\n",
       "                                          learning_rate=0.1, max_delta_step=0,\n",
       "                                          max_depth=3, min_child_weight=1,\n",
       "                                          missing=None, n_estimators=100,\n",
       "                                          n_jobs=1, nthread=None,\n",
       "                                          objective='reg:linear',\n",
       "                                          random_st...\n",
       "                   iid='warn', n_iter=100, n_jobs=-1,\n",
       "                   param_distributions={'learning_rate': [0.1, 0.01, 0.001],\n",
       "                                        'max_depth': [3, 4, 5],\n",
       "                                        'n_estimators': [100, 109, 118, 127,\n",
       "                                                         136, 145, 154, 163,\n",
       "                                                         172, 181, 190, 200,\n",
       "                                                         209, 218, 227, 236,\n",
       "                                                         245, 254, 263, 272,\n",
       "                                                         281, 290, 300, 309,\n",
       "                                                         318, 327, 336, 345,\n",
       "                                                         354, 363, ...],\n",
       "                                        'objective': ['reg:squarederror']},\n",
       "                   pre_dispatch='2*n_jobs', random_state=42, refit=True,\n",
       "                   return_train_score=False, scoring=None, verbose=2)"
      ]
     },
     "execution_count": 378,
     "metadata": {},
     "output_type": "execute_result"
    }
   ],
   "source": [
    "# XGBoost\n",
    "from sklearn.model_selection import RandomizedSearchCV# Number of trees in random forest\n",
    "\n",
    "random_grid = {'n_estimators': [int(x) for x in np.linspace(start = 100, stop = 1000, num = 100)],\n",
    "               'learning_rate': [0.1, 0.01, 0.001],\n",
    "               'max_depth': [3,4,5],\n",
    "               'objective': ['reg:squarederror'],\n",
    "               }\n",
    "xgb = XGBRegressor()\n",
    "xgb_random = RandomizedSearchCV(estimator = xgb, param_distributions = random_grid, n_iter = 100, cv = 5, verbose=2, random_state=42, n_jobs = -1)\n",
    "\n",
    "# Fit the random search model\n",
    "xgb_random.fit(X, y)"
   ]
  },
  {
   "cell_type": "code",
   "execution_count": 379,
   "metadata": {},
   "outputs": [
    {
     "data": {
      "text/plain": [
       "{'objective': 'reg:squarederror',\n",
       " 'n_estimators': 609,\n",
       " 'max_depth': 4,\n",
       " 'learning_rate': 0.001}"
      ]
     },
     "execution_count": 379,
     "metadata": {},
     "output_type": "execute_result"
    }
   ],
   "source": [
    "xgb_random.best_params_"
   ]
  },
  {
   "cell_type": "code",
   "execution_count": 380,
   "metadata": {},
   "outputs": [
    {
     "data": {
      "text/plain": [
       "123.83482776905173"
      ]
     },
     "execution_count": 380,
     "metadata": {},
     "output_type": "execute_result"
    }
   ],
   "source": [
    "xgb = XGBRegressor(n_estimators=609, objective='reg:squarederror', max_depth=4, learning_rate=0.001)\n",
    "-1 * cross_val_score(xgb, X, y,\n",
    "                              cv=10,\n",
    "                              scoring='neg_mean_squared_error').mean()"
   ]
  },
  {
   "cell_type": "code",
   "execution_count": 76,
   "metadata": {
    "scrolled": false
   },
   "outputs": [
    {
     "data": {
      "text/plain": [
       "(353, 57)"
      ]
     },
     "execution_count": 76,
     "metadata": {},
     "output_type": "execute_result"
    }
   ],
   "source": [
    "data.shape"
   ]
  },
  {
   "cell_type": "code",
   "execution_count": 77,
   "metadata": {},
   "outputs": [],
   "source": [
    "test_data = pd.read_csv('test.csv', index_col='id')"
   ]
  },
  {
   "cell_type": "markdown",
   "metadata": {},
   "source": [
    "## Data preprocessing for test data\n",
    "playtime_forever: output\\\n",
    "is_free: boolean => map 0/1\\\n",
    "price: discrete number => scaling\\\n",
    "genres: string => split and dummy (pivot)\\\n",
    "categories: stirng => split and dummy (pivot)\\\n",
    "tags: string => count its numbers of letter and catogorize\\\n",
    "purchase_date, release_date: date => convert to stamptime and count the differece bewteen them as well as now\\\n",
    "total_positive_reviews: float => scaling\\\n",
    "total_negative_reviews: float => scaling"
   ]
  },
  {
   "cell_type": "code",
   "execution_count": 79,
   "metadata": {},
   "outputs": [],
   "source": [
    "# is_free: boolean => map 0/1\n",
    "test_data['is_free'] = test_data['is_free'].map({False:0, True:1})"
   ]
  },
  {
   "cell_type": "code",
   "execution_count": 80,
   "metadata": {},
   "outputs": [],
   "source": [
    "# price: discrete number => scaling\n",
    "test_data['price'] = test_data['price'] / 30800"
   ]
  },
  {
   "cell_type": "code",
   "execution_count": 81,
   "metadata": {},
   "outputs": [],
   "source": [
    "# genres: string => split and dummy (pivot)\n",
    "genres_split = test_data['genres'].apply(lambda x: x.strip().split(\",\"))\n",
    "genres = pd.get_dummies(genres_split.apply(pd.Series).stack()).sum(level=0)\n",
    "genres.columns = pd.MultiIndex.from_product([['genres'], genres.columns])\n",
    "test_data = test_data.drop(columns=['genres'])\n",
    "test_data = pd.concat([test_data, genres], axis=1)"
   ]
  },
  {
   "cell_type": "code",
   "execution_count": 82,
   "metadata": {},
   "outputs": [],
   "source": [
    "# categories: stirng => split and dummy (pivot)\n",
    "categories_split = test_data['categories'].apply(lambda x: x.strip().split(\",\"))\n",
    "categories = pd.get_dummies(categories_split.apply(pd.Series).stack()).sum(level=0)\n",
    "categories.columns = pd.MultiIndex.from_product([['categories'], categories.columns])\n",
    "test_data = test_data.drop(columns=['categories'])\n",
    "test_data = pd.concat([test_data, categories], axis=1)"
   ]
  },
  {
   "cell_type": "code",
   "execution_count": 83,
   "metadata": {},
   "outputs": [],
   "source": [
    "# tags: string => count its numbers of letter and catogorize\n",
    "test_data['tags'] = test_data['tags'].apply(len)\n",
    "test_data.loc[test_data['tags'] <= 170, 'tags'] = 0\n",
    "test_data.loc[(test_data['tags'] > 170) & (test_data['tags'] <= 197), 'tags'] = 1\n",
    "test_data.loc[(test_data['tags'] > 197) & (test_data['tags'] <= 213), 'tags'] = 2\n",
    "test_data.loc[test_data['tags'] > 213, 'tags'] = 3"
   ]
  },
  {
   "cell_type": "code",
   "execution_count": 84,
   "metadata": {},
   "outputs": [],
   "source": [
    "# purchase_date, release_date: date => convert to stamptime and count the differece bewteen them as well as now\n",
    "test_data['purchase_date'] = test_data['purchase_date'].fillna(\"Sep 2, 2019\")\n",
    "test_data['purchase_date'] = test_data['purchase_date'].apply(lambda x: datetime.strptime(x, '%b %d, %Y'))\n",
    "test_data['release_date'] = test_data['release_date'].apply(lambda x: datetime.strptime(x, '%d-%b-%y'))\n",
    "test_data['day_btn_purchase_release'] = (test_data['purchase_date'] - test_data['release_date']).dt.days\n",
    "test_data['day_btn_2020_purchase'] = (datetime(2020,1,1)-test_data['purchase_date']).dt.days\n",
    "test_data['day_btn_purchase_release'] = test_data['day_btn_purchase_release'] / 5000\n",
    "test_data['day_btn_2020_purchase'] = test_data['day_btn_2020_purchase'] / 2000\n",
    "test_data = test_data.drop(columns=['purchase_date', 'release_date'])"
   ]
  },
  {
   "cell_type": "code",
   "execution_count": 85,
   "metadata": {},
   "outputs": [],
   "source": [
    "# total_positive_reviews: float => scaling\n",
    "# total_negative_reviews: float => scaling\n",
    "test_data['total_positive_reviews'] = test_data['total_positive_reviews'].fillna(0)\n",
    "test_data['total_negative_reviews'] = test_data['total_negative_reviews'].fillna(0)\n",
    "test_data['total_positive_reviews'] = test_data['total_positive_reviews'] / 100000\n",
    "test_data['total_negative_reviews'] = test_data['total_negative_reviews'] / 100000"
   ]
  },
  {
   "cell_type": "code",
   "execution_count": 86,
   "metadata": {},
   "outputs": [],
   "source": [
    "test_data[('genres', 'Racing')] = 0\n",
    "test_data[('genres', 'Design & Illustration')] = 0\n",
    "test_data[('genres', 'Utilities')] = 0\n",
    "test_data[('genres', 'Sexual Content')] = 0\n",
    "test_data[('categories', 'Valve Anti-Cheat enabled')] = 0\n",
    "test_data[('genres', 'Animation & Modeling')] = 0\n",
    "test_data[('genres', 'Audio Production')] = 0\n",
    "test_data['playtime_forever'] = 0"
   ]
  },
  {
   "cell_type": "code",
   "execution_count": 87,
   "metadata": {},
   "outputs": [],
   "source": [
    "test_data = test_data[data.columns]\n",
    "test_data = test_data.drop(columns=['playtime_forever'])"
   ]
  },
  {
   "cell_type": "code",
   "execution_count": null,
   "metadata": {},
   "outputs": [],
   "source": []
  },
  {
   "cell_type": "markdown",
   "metadata": {},
   "source": [
    "## Random Forest"
   ]
  },
  {
   "cell_type": "code",
   "execution_count": 347,
   "metadata": {},
   "outputs": [
    {
     "data": {
      "text/plain": [
       "RandomForestRegressor(bootstrap=True, criterion='mse', max_depth=90,\n",
       "                      max_features='sqrt', max_leaf_nodes=None,\n",
       "                      min_impurity_decrease=0.0, min_impurity_split=None,\n",
       "                      min_samples_leaf=4, min_samples_split=10,\n",
       "                      min_weight_fraction_leaf=0.0, n_estimators=174,\n",
       "                      n_jobs=None, oob_score=False, random_state=None,\n",
       "                      verbose=0, warm_start=False)"
      ]
     },
     "execution_count": 347,
     "metadata": {},
     "output_type": "execute_result"
    }
   ],
   "source": [
    "rdf = RandomForestRegressor(n_estimators=174, \n",
    "                            min_samples_split=10,\n",
    "                            min_samples_leaf=4,\n",
    "                            max_features='sqrt', \n",
    "                            max_depth=90, \n",
    "                            bootstrap=True)\n",
    "rdf.fit(X, y)"
   ]
  },
  {
   "cell_type": "code",
   "execution_count": 290,
   "metadata": {},
   "outputs": [],
   "source": [
    "# Use random forest\n",
    "playtime_forever = rdf.predict(test_data)\n",
    "submission = pd.DataFrame(data=playtime_forever, columns=['playtime_forever'])\n",
    "submission.index.name = 'id'\n",
    "submission.to_csv('rdf.csv')\n",
    "#16\n",
    "-1 * cross_val_score(rdf, X, y,\n",
    "                              cv=10,\n",
    "                              scoring='neg_mean_squared_error').mean()"
   ]
  },
  {
   "cell_type": "code",
   "execution_count": 349,
   "metadata": {},
   "outputs": [
    {
     "data": {
      "text/plain": [
       "108.73470934359925"
      ]
     },
     "execution_count": 349,
     "metadata": {},
     "output_type": "execute_result"
    }
   ],
   "source": []
  },
  {
   "cell_type": "markdown",
   "metadata": {},
   "source": [
    "## Neural Network"
   ]
  },
  {
   "cell_type": "code",
   "execution_count": 353,
   "metadata": {},
   "outputs": [
    {
     "name": "stdout",
     "output_type": "stream",
     "text": [
      "Fitting 5 folds for each of 36 candidates, totalling 180 fits\n"
     ]
    },
    {
     "name": "stderr",
     "output_type": "stream",
     "text": [
      "[Parallel(n_jobs=-1)]: Using backend LokyBackend with 4 concurrent workers.\n",
      "[Parallel(n_jobs=-1)]: Done  33 tasks      | elapsed:    6.9s\n",
      "[Parallel(n_jobs=-1)]: Done 154 tasks      | elapsed:   27.3s\n",
      "[Parallel(n_jobs=-1)]: Done 180 out of 180 | elapsed:   33.9s finished\n"
     ]
    },
    {
     "data": {
      "text/plain": [
       "RandomizedSearchCV(cv=5, error_score='raise-deprecating',\n",
       "                   estimator=MLPRegressor(activation='relu', alpha=0.0001,\n",
       "                                          batch_size='auto', beta_1=0.9,\n",
       "                                          beta_2=0.999, early_stopping=False,\n",
       "                                          epsilon=1e-08,\n",
       "                                          hidden_layer_sizes=(100,),\n",
       "                                          learning_rate='constant',\n",
       "                                          learning_rate_init=0.001,\n",
       "                                          max_iter=200, momentum=0.9,\n",
       "                                          n_iter_no_change=10,\n",
       "                                          nesterovs_momentum=True, power_t=0.5,\n",
       "                                          rando...\n",
       "                                          solver='adam', tol=0.0001,\n",
       "                                          validation_fraction=0.1,\n",
       "                                          verbose=False, warm_start=False),\n",
       "                   iid='warn', n_iter=100, n_jobs=-1,\n",
       "                   param_distributions={'alpha': [0.001, 0.0001],\n",
       "                                        'hidden_layer_sizes': [(50,), (100,),\n",
       "                                                               (200,)],\n",
       "                                        'learning_rate_init': [0.01, 0.001,\n",
       "                                                               0.0001],\n",
       "                                        'solver': ['lbfgs', 'adam']},\n",
       "                   pre_dispatch='2*n_jobs', random_state=42, refit=True,\n",
       "                   return_train_score=False, scoring=None, verbose=2)"
      ]
     },
     "execution_count": 353,
     "metadata": {},
     "output_type": "execute_result"
    }
   ],
   "source": [
    "# Neural Network\n",
    "random_grid = {'hidden_layer_sizes': [(50,), (100,), (200,)],\n",
    "               'solver': ['lbfgs', 'adam'],\n",
    "               'alpha': [0.001, 0.0001],\n",
    "               'learning_rate_init': [0.01, 0.001, 0.0001]\n",
    "               }\n",
    "mlp = MLPRegressor()\n",
    "mlp_random = RandomizedSearchCV(estimator = mlp, param_distributions = random_grid, n_iter = 100, cv = 5, verbose=2, random_state=42, n_jobs = -1)\n",
    "\n",
    "# Fit the random search model\n",
    "mlp_random.fit(X, y)"
   ]
  },
  {
   "cell_type": "code",
   "execution_count": 354,
   "metadata": {},
   "outputs": [
    {
     "data": {
      "text/plain": [
       "{'solver': 'adam',\n",
       " 'learning_rate_init': 0.0001,\n",
       " 'hidden_layer_sizes': (200,),\n",
       " 'alpha': 0.0001}"
      ]
     },
     "execution_count": 354,
     "metadata": {},
     "output_type": "execute_result"
    }
   ],
   "source": [
    "mlp_random.best_params_"
   ]
  },
  {
   "cell_type": "code",
   "execution_count": 382,
   "metadata": {},
   "outputs": [
    {
     "data": {
      "text/plain": [
       "120.65967485039164"
      ]
     },
     "execution_count": 382,
     "metadata": {},
     "output_type": "execute_result"
    }
   ],
   "source": [
    "mlp = MLPRegressor(solver= 'adam', learning_rate_init= 0.0001, hidden_layer_sizes= (200,), alpha= 0.0001)\n",
    "mlp.fit(X,y)\n",
    "\n",
    "playtime_forever = mlp.predict(test_data)\n",
    "submission = pd.DataFrame(data=playtime_forever, columns=['playtime_forever'])\n",
    "submission.index.name = 'id'\n",
    "submission.to_csv('mlp.csv')\n",
    "#16\n",
    "-1 * cross_val_score(mlp, X, y,\n",
    "                              cv=10,\n",
    "                              scoring='neg_mean_squared_error').mean()"
   ]
  },
  {
   "cell_type": "code",
   "execution_count": 383,
   "metadata": {},
   "outputs": [
    {
     "data": {
      "text/plain": [
       "0.08520528843808928"
      ]
     },
     "execution_count": 383,
     "metadata": {},
     "output_type": "execute_result"
    }
   ],
   "source": [
    "mlp = MLPRegressor(solver= 'adam', learning_rate_init= 0.0001, hidden_layer_sizes= (200,), alpha= 0.0001)\n",
    "mlp.fit(X,y)\n",
    "mlp.score(X,y)"
   ]
  },
  {
   "cell_type": "markdown",
   "metadata": {},
   "source": [
    "## See the features importance of random forest"
   ]
  },
  {
   "cell_type": "code",
   "execution_count": 335,
   "metadata": {},
   "outputs": [
    {
     "name": "stdout",
     "output_type": "stream",
     "text": [
      "Variable: total_positive_reviews Importance: 0.21\n",
      "Variable: total_negative_reviews Importance: 0.16\n",
      "Variable: day_btn_purchase_release Importance: 0.12\n",
      "Variable: day_btn_2020_purchase Importance: 0.08\n",
      "Variable: price Importance: 0.07\n",
      "Variable: ('genres', 'Massively Multiplayer') Importance: 0.03\n",
      "Variable: tags Importance: 0.02\n",
      "Variable: ('genres', 'Adventure') Importance: 0.02\n",
      "Variable: ('genres', 'RPG') Importance: 0.02\n",
      "Variable: ('categories', 'Co-op') Importance: 0.02\n",
      "Variable: ('categories', 'Full controller support') Importance: 0.02\n",
      "Variable: ('categories', 'Multi-player') Importance: 0.02\n",
      "Variable: ('categories', 'Online Co-op') Importance: 0.02\n",
      "Variable: ('categories', 'Steam Workshop') Importance: 0.02\n",
      "Variable: ('genres', 'Action') Importance: 0.01\n",
      "Variable: ('genres', 'Indie') Importance: 0.01\n",
      "Variable: ('genres', 'Simulation') Importance: 0.01\n",
      "Variable: ('genres', 'Strategy') Importance: 0.01\n",
      "Variable: ('categories', 'Cross-Platform Multiplayer') Importance: 0.01\n",
      "Variable: ('categories', 'Local Co-op') Importance: 0.01\n",
      "Variable: ('categories', 'Local Multi-Player') Importance: 0.01\n",
      "Variable: ('categories', 'Online Multi-Player') Importance: 0.01\n",
      "Variable: ('categories', 'Partial Controller Support') Importance: 0.01\n",
      "Variable: ('categories', 'Stats') Importance: 0.01\n",
      "Variable: ('categories', 'Steam Achievements') Importance: 0.01\n",
      "Variable: ('categories', 'Steam Leaderboards') Importance: 0.01\n",
      "Variable: ('categories', 'Steam Trading Cards') Importance: 0.01\n",
      "Variable: is_free Importance: 0.0\n",
      "Variable: ('genres', 'Animation & Modeling') Importance: 0.0\n",
      "Variable: ('genres', 'Audio Production') Importance: 0.0\n",
      "Variable: ('genres', 'Casual') Importance: 0.0\n",
      "Variable: ('genres', 'Design & Illustration') Importance: 0.0\n",
      "Variable: ('genres', 'Early Access') Importance: 0.0\n",
      "Variable: ('genres', 'Free to Play') Importance: 0.0\n",
      "Variable: ('genres', 'Gore') Importance: 0.0\n",
      "Variable: ('genres', 'Nudity') Importance: 0.0\n",
      "Variable: ('genres', 'Racing') Importance: 0.0\n",
      "Variable: ('genres', 'Sexual Content') Importance: 0.0\n",
      "Variable: ('genres', 'Sports') Importance: 0.0\n",
      "Variable: ('genres', 'Utilities') Importance: 0.0\n",
      "Variable: ('genres', 'Violent') Importance: 0.0\n",
      "Variable: ('categories', 'Captions available') Importance: 0.0\n",
      "Variable: ('categories', 'Commentary available') Importance: 0.0\n",
      "Variable: ('categories', 'In-App Purchases') Importance: 0.0\n",
      "Variable: ('categories', 'Includes Source SDK') Importance: 0.0\n",
      "Variable: ('categories', 'Includes level editor') Importance: 0.0\n",
      "Variable: ('categories', 'MMO') Importance: 0.0\n",
      "Variable: ('categories', 'Remote Play on Phone') Importance: 0.0\n",
      "Variable: ('categories', 'Remote Play on TV') Importance: 0.0\n",
      "Variable: ('categories', 'Remote Play on Tablet') Importance: 0.0\n",
      "Variable: ('categories', 'Shared/Split Screen') Importance: 0.0\n",
      "Variable: ('categories', 'Single-player') Importance: 0.0\n",
      "Variable: ('categories', 'Steam Cloud') Importance: 0.0\n",
      "Variable: ('categories', 'SteamVR Collectibles') Importance: 0.0\n",
      "Variable: ('categories', 'VR Support') Importance: 0.0\n",
      "Variable: ('categories', 'Valve Anti-Cheat enabled') Importance: 0.0\n"
     ]
    }
   ],
   "source": [
    "feature_list = list(X.columns)\n",
    "# Get numerical feature importances\n",
    "importances = list(rdf.feature_importances_)\n",
    "# List of tuples with variable and importance\n",
    "feature_importances = [(feature, round(importance, 2)) for feature, importance in zip(feature_list, importances)]\n",
    "# Sort the feature importances by most important first\n",
    "feature_importances = sorted(feature_importances, key = lambda x: x[1], reverse = True)\n",
    "# Print out the feature and importances \n",
    "for pair in feature_importances:\n",
    "    print(\"Variable: \" + str(pair[0]) + \" Importance: \" + str(pair[1]))"
   ]
  },
  {
   "cell_type": "code",
   "execution_count": 336,
   "metadata": {},
   "outputs": [
    {
     "data": {
      "image/png": "[encoded data removed]",
      "text/plain": [
       "<Figure size 1152x648 with 1 Axes>"
      ]
     },
     "metadata": {},
     "output_type": "display_data"
    }
   ],
   "source": [
    "plt.figure(figsize=(16,9))\n",
    "# Reset style \n",
    "plt.style.use('fivethirtyeight')\n",
    "\n",
    "# list of x locations for plotting\n",
    "x_values = list(range(len(importances)))\n",
    "\n",
    "# Make a bar chart\n",
    "plt.bar(x_values, importances, orientation = 'vertical', color = 'r', edgecolor = 'k', linewidth = 1.2)\n",
    "\n",
    "# Tick labels for x axis\n",
    "plt.xticks(x_values, feature_list, rotation='vertical')\n",
    "\n",
    "# Axis labels and title\n",
    "plt.ylabel('Importance'); plt.xlabel('Variable'); plt.title('Variable Importances of random forest');"
   ]
  },
  {
   "cell_type": "code",
   "execution_count": null,
   "metadata": {},
   "outputs": [],
   "source": []
  },
  {
   "cell_type": "code",
   "execution_count": 361,
   "metadata": {},
   "outputs": [
    {
     "ename": "TypeError",
     "evalue": "'<=' not supported between instances of 'numpy.ndarray' and 'int'",
     "output_type": "error",
     "traceback": [
      "\u001b[0;31m---------------------------------------------------------------------------\u001b[0m",
      "\u001b[0;31mTypeError\u001b[0m                                 Traceback (most recent call last)",
      "\u001b[0;32m<ipython-input-361-a41a33c59f55>\u001b[0m in \u001b[0;36m<module>\u001b[0;34m\u001b[0m\n\u001b[0;32m----> 1\u001b[0;31m \u001b[0mmlp\u001b[0m\u001b[0;34m.\u001b[0m\u001b[0mfit\u001b[0m\u001b[0;34m(\u001b[0m\u001b[0mX\u001b[0m\u001b[0;34m,\u001b[0m \u001b[0my\u001b[0m\u001b[0;34m)\u001b[0m\u001b[0;34m\u001b[0m\u001b[0;34m\u001b[0m\u001b[0m\n\u001b[0m",
      "\u001b[0;32m~/anaconda3/lib/python3.7/site-packages/sklearn/neural_network/multilayer_perceptron.py\u001b[0m in \u001b[0;36mfit\u001b[0;34m(self, X, y)\u001b[0m\n\u001b[1;32m    620\u001b[0m         \u001b[0mself\u001b[0m \u001b[0;34m:\u001b[0m \u001b[0mreturns\u001b[0m \u001b[0ma\u001b[0m \u001b[0mtrained\u001b[0m \u001b[0mMLP\u001b[0m \u001b[0mmodel\u001b[0m\u001b[0;34m.\u001b[0m\u001b[0;34m\u001b[0m\u001b[0;34m\u001b[0m\u001b[0m\n\u001b[1;32m    621\u001b[0m         \"\"\"\n\u001b[0;32m--> 622\u001b[0;31m         \u001b[0;32mreturn\u001b[0m \u001b[0mself\u001b[0m\u001b[0;34m.\u001b[0m\u001b[0m_fit\u001b[0m\u001b[0;34m(\u001b[0m\u001b[0mX\u001b[0m\u001b[0;34m,\u001b[0m \u001b[0my\u001b[0m\u001b[0;34m,\u001b[0m \u001b[0mincremental\u001b[0m\u001b[0;34m=\u001b[0m\u001b[0;32mFalse\u001b[0m\u001b[0;34m)\u001b[0m\u001b[0;34m\u001b[0m\u001b[0;34m\u001b[0m\u001b[0m\n\u001b[0m\u001b[1;32m    623\u001b[0m \u001b[0;34m\u001b[0m\u001b[0m\n\u001b[1;32m    624\u001b[0m     \u001b[0;34m@\u001b[0m\u001b[0mproperty\u001b[0m\u001b[0;34m\u001b[0m\u001b[0;34m\u001b[0m\u001b[0m\n",
      "\u001b[0;32m~/anaconda3/lib/python3.7/site-packages/sklearn/neural_network/multilayer_perceptron.py\u001b[0m in \u001b[0;36m_fit\u001b[0;34m(self, X, y, incremental)\u001b[0m\n\u001b[1;32m    317\u001b[0m         \u001b[0;31m# Validate input parameters.\u001b[0m\u001b[0;34m\u001b[0m\u001b[0;34m\u001b[0m\u001b[0;34m\u001b[0m\u001b[0m\n\u001b[1;32m    318\u001b[0m         \u001b[0mself\u001b[0m\u001b[0;34m.\u001b[0m\u001b[0m_validate_hyperparameters\u001b[0m\u001b[0;34m(\u001b[0m\u001b[0;34m)\u001b[0m\u001b[0;34m\u001b[0m\u001b[0;34m\u001b[0m\u001b[0m\n\u001b[0;32m--> 319\u001b[0;31m         \u001b[0;32mif\u001b[0m \u001b[0mnp\u001b[0m\u001b[0;34m.\u001b[0m\u001b[0many\u001b[0m\u001b[0;34m(\u001b[0m\u001b[0mnp\u001b[0m\u001b[0;34m.\u001b[0m\u001b[0marray\u001b[0m\u001b[0;34m(\u001b[0m\u001b[0mhidden_layer_sizes\u001b[0m\u001b[0;34m)\u001b[0m \u001b[0;34m<=\u001b[0m \u001b[0;36m0\u001b[0m\u001b[0;34m)\u001b[0m\u001b[0;34m:\u001b[0m\u001b[0;34m\u001b[0m\u001b[0;34m\u001b[0m\u001b[0m\n\u001b[0m\u001b[1;32m    320\u001b[0m             raise ValueError(\"hidden_layer_sizes must be > 0, got %s.\" %\n\u001b[1;32m    321\u001b[0m                              hidden_layer_sizes)\n",
      "\u001b[0;31mTypeError\u001b[0m: '<=' not supported between instances of 'numpy.ndarray' and 'int'"
     ]
    }
   ],
   "source": [
    "mlp.fit(X, y)"
   ]
  },
  {
   "cell_type": "code",
   "execution_count": 258,
   "metadata": {},
   "outputs": [],
   "source": [
    "# Use MLP\n",
    "playtime_forever = rdf.predict(test_data)\n",
    "submission = pd.DataFrame(data=playtime_forever, columns=['playtime_forever'])\n",
    "submission.index.name = 'id'\n",
    "submission.to_csv('mlp.csv')\n",
    "#16"
   ]
  },
  {
   "cell_type": "code",
   "execution_count": 259,
   "metadata": {},
   "outputs": [
    {
     "data": {
      "text/plain": [
       "KNeighborsRegressor(algorithm='auto', leaf_size=30, metric='minkowski',\n",
       "                    metric_params=None, n_jobs=None, n_neighbors=5, p=2,\n",
       "                    weights='uniform')"
      ]
     },
     "execution_count": 259,
     "metadata": {},
     "output_type": "execute_result"
    }
   ],
   "source": [
    "# Use KNN\n",
    "knn.fit(X, y)"
   ]
  },
  {
   "cell_type": "code",
   "execution_count": 260,
   "metadata": {},
   "outputs": [],
   "source": [
    "playtime_forever = knn.predict(test_data)\n",
    "submission = pd.DataFrame(data=playtime_forever, columns=['playtime_forever'])\n",
    "submission.index.name = 'id'\n",
    "submission.to_csv('knn.csv')\n",
    "#17"
   ]
  },
  {
   "cell_type": "code",
   "execution_count": 262,
   "metadata": {},
   "outputs": [
    {
     "name": "stderr",
     "output_type": "stream",
     "text": [
      "/Users/jerrylee/anaconda3/lib/python3.7/site-packages/sklearn/svm/base.py:193: FutureWarning: The default value of gamma will change from 'auto' to 'scale' in version 0.22 to account better for unscaled features. Set gamma explicitly to 'auto' or 'scale' to avoid this warning.\n",
      "  \"avoid this warning.\", FutureWarning)\n"
     ]
    },
    {
     "data": {
      "text/plain": [
       "SVR(C=1.0, cache_size=200, coef0=0.0, degree=3, epsilon=0.1,\n",
       "    gamma='auto_deprecated', kernel='rbf', max_iter=-1, shrinking=True,\n",
       "    tol=0.001, verbose=False)"
      ]
     },
     "execution_count": 262,
     "metadata": {},
     "output_type": "execute_result"
    }
   ],
   "source": [
    "# Use SVR\n",
    "svr.fit(X, y)"
   ]
  },
  {
   "cell_type": "code",
   "execution_count": 263,
   "metadata": {},
   "outputs": [],
   "source": [
    "playtime_forever = svr.predict(test_data)\n",
    "submission = pd.DataFrame(data=playtime_forever, columns=['playtime_forever'])\n",
    "submission.index.name = 'id'\n",
    "submission.to_csv('svr.csv')\n",
    "#19"
   ]
  },
  {
   "cell_type": "code",
   "execution_count": 340,
   "metadata": {},
   "outputs": [
    {
     "data": {
      "text/plain": [
       "XGBRegressor(base_score=0.5, booster='gbtree', colsample_bylevel=1,\n",
       "             colsample_bynode=1, colsample_bytree=1, gamma=0,\n",
       "             importance_type='gain', learning_rate=0.001, max_delta_step=0,\n",
       "             max_depth=4, min_child_weight=1, missing=None, n_estimators=609,\n",
       "             n_jobs=1, nthread=None, objective='reg:squarederror',\n",
       "             random_state=0, reg_alpha=0, reg_lambda=1, scale_pos_weight=1,\n",
       "             seed=None, silent=None, subsample=1, verbosity=1)"
      ]
     },
     "execution_count": 340,
     "metadata": {},
     "output_type": "execute_result"
    }
   ],
   "source": [
    "# Use XGBoost\n",
    "xgb.fit(X, y)"
   ]
  },
  {
   "cell_type": "code",
   "execution_count": 341,
   "metadata": {},
   "outputs": [],
   "source": [
    "playtime_forever = xgb.predict(test_data)\n",
    "submission = pd.DataFrame(data=playtime_forever, columns=['playtime_forever'])\n",
    "submission.index.name = 'id'\n",
    "submission.to_csv('xgb.csv')"
   ]
  },
  {
   "cell_type": "code",
   "execution_count": 342,
   "metadata": {},
   "outputs": [
    {
     "data": {
      "text/plain": [
       "0.492737281281917"
      ]
     },
     "execution_count": 342,
     "metadata": {},
     "output_type": "execute_result"
    }
   ],
   "source": [
    "xgb.score(X,y)"
   ]
  },
  {
   "cell_type": "markdown",
   "metadata": {},
   "source": [
    "## See the features importance of random forest"
   ]
  },
  {
   "cell_type": "code",
   "execution_count": 337,
   "metadata": {},
   "outputs": [
    {
     "name": "stdout",
     "output_type": "stream",
     "text": [
      "Variable: total_positive_reviews Importance: 0.27\n",
      "Variable: day_btn_purchase_release Importance: 0.17\n",
      "Variable: ('genres', 'Strategy') Importance: 0.13\n",
      "Variable: price Importance: 0.1\n",
      "Variable: ('genres', 'Adventure') Importance: 0.07\n",
      "Variable: tags Importance: 0.05\n",
      "Variable: ('categories', 'Online Co-op') Importance: 0.05\n",
      "Variable: total_negative_reviews Importance: 0.04\n",
      "Variable: ('categories', 'Full controller support') Importance: 0.04\n",
      "Variable: ('categories', 'Steam Trading Cards') Importance: 0.03\n",
      "Variable: ('categories', 'In-App Purchases') Importance: 0.02\n",
      "Variable: day_btn_2020_purchase Importance: 0.02\n",
      "Variable: is_free Importance: 0.0\n",
      "Variable: ('genres', 'Action') Importance: 0.0\n",
      "Variable: ('genres', 'Animation & Modeling') Importance: 0.0\n",
      "Variable: ('genres', 'Audio Production') Importance: 0.0\n",
      "Variable: ('genres', 'Casual') Importance: 0.0\n",
      "Variable: ('genres', 'Design & Illustration') Importance: 0.0\n",
      "Variable: ('genres', 'Early Access') Importance: 0.0\n",
      "Variable: ('genres', 'Free to Play') Importance: 0.0\n",
      "Variable: ('genres', 'Gore') Importance: 0.0\n",
      "Variable: ('genres', 'Indie') Importance: 0.0\n",
      "Variable: ('genres', 'Massively Multiplayer') Importance: 0.0\n",
      "Variable: ('genres', 'Nudity') Importance: 0.0\n",
      "Variable: ('genres', 'RPG') Importance: 0.0\n",
      "Variable: ('genres', 'Racing') Importance: 0.0\n",
      "Variable: ('genres', 'Sexual Content') Importance: 0.0\n",
      "Variable: ('genres', 'Simulation') Importance: 0.0\n",
      "Variable: ('genres', 'Sports') Importance: 0.0\n",
      "Variable: ('genres', 'Utilities') Importance: 0.0\n",
      "Variable: ('genres', 'Violent') Importance: 0.0\n",
      "Variable: ('categories', 'Captions available') Importance: 0.0\n",
      "Variable: ('categories', 'Co-op') Importance: 0.0\n",
      "Variable: ('categories', 'Commentary available') Importance: 0.0\n",
      "Variable: ('categories', 'Cross-Platform Multiplayer') Importance: 0.0\n",
      "Variable: ('categories', 'Includes Source SDK') Importance: 0.0\n",
      "Variable: ('categories', 'Includes level editor') Importance: 0.0\n",
      "Variable: ('categories', 'Local Co-op') Importance: 0.0\n",
      "Variable: ('categories', 'Local Multi-Player') Importance: 0.0\n",
      "Variable: ('categories', 'MMO') Importance: 0.0\n",
      "Variable: ('categories', 'Multi-player') Importance: 0.0\n",
      "Variable: ('categories', 'Online Multi-Player') Importance: 0.0\n",
      "Variable: ('categories', 'Partial Controller Support') Importance: 0.0\n",
      "Variable: ('categories', 'Remote Play on Phone') Importance: 0.0\n",
      "Variable: ('categories', 'Remote Play on TV') Importance: 0.0\n",
      "Variable: ('categories', 'Remote Play on Tablet') Importance: 0.0\n",
      "Variable: ('categories', 'Shared/Split Screen') Importance: 0.0\n",
      "Variable: ('categories', 'Single-player') Importance: 0.0\n",
      "Variable: ('categories', 'Stats') Importance: 0.0\n",
      "Variable: ('categories', 'Steam Achievements') Importance: 0.0\n",
      "Variable: ('categories', 'Steam Cloud') Importance: 0.0\n",
      "Variable: ('categories', 'Steam Leaderboards') Importance: 0.0\n",
      "Variable: ('categories', 'Steam Workshop') Importance: 0.0\n",
      "Variable: ('categories', 'SteamVR Collectibles') Importance: 0.0\n",
      "Variable: ('categories', 'VR Support') Importance: 0.0\n",
      "Variable: ('categories', 'Valve Anti-Cheat enabled') Importance: 0.0\n"
     ]
    }
   ],
   "source": [
    "feature_list = list(X.columns)\n",
    "# Get numerical feature importances\n",
    "importances = list(xgb.feature_importances_)\n",
    "# List of tuples with variable and importance\n",
    "feature_importances = [(feature, round(importance, 2)) for feature, importance in zip(feature_list, importances)]\n",
    "# Sort the feature importances by most important first\n",
    "feature_importances = sorted(feature_importances, key = lambda x: x[1], reverse = True)\n",
    "# Print out the feature and importances \n",
    "for pair in feature_importances:\n",
    "    print(\"Variable: \" + str(pair[0]) + \" Importance: \" + str(pair[1]))"
   ]
  },
  {
   "cell_type": "code",
   "execution_count": 338,
   "metadata": {},
   "outputs": [
    {
     "data": {
      "image/png": "[encoded data removed]",
      "text/plain": [
       "<Figure size 1152x648 with 1 Axes>"
      ]
     },
     "metadata": {},
     "output_type": "display_data"
    }
   ],
   "source": [
    "plt.figure(figsize=(16,9))\n",
    "# Reset style \n",
    "plt.style.use('fivethirtyeight')\n",
    "\n",
    "# list of x locations for plotting\n",
    "x_values = list(range(len(importances)))\n",
    "\n",
    "# Make a bar chart\n",
    "plt.bar(x_values, importances, orientation = 'vertical', color = 'r', edgecolor = 'k', linewidth = 1.2)\n",
    "\n",
    "# Tick labels for x axis\n",
    "plt.xticks(x_values, feature_list, rotation='vertical')\n",
    "\n",
    "# Axis labels and title\n",
    "plt.ylabel('Importance'); plt.xlabel('Variable'); plt.title('Variable Importances for xgboost');"
   ]
  },
  {
   "cell_type": "code",
   "execution_count": 351,
   "metadata": {},
   "outputs": [
    {
     "data": {
      "text/plain": [
       "3.1183663833805464"
      ]
     },
     "execution_count": 351,
     "metadata": {},
     "output_type": "execute_result"
    }
   ],
   "source": [
    "data['playtime_forever'].mean()"
   ]
  },
  {
   "cell_type": "code",
   "execution_count": null,
   "metadata": {},
   "outputs": [],
   "source": []
  }
 ],
 "metadata": {
  "kernelspec": {
   "display_name": "Python 3",
   "language": "python",
   "name": "python3"
  },
  "language_info": {
   "codemirror_mode": {
    "name": "ipython",
    "version": 3
   },
   "file_extension": ".py",
   "mimetype": "text/x-python",
   "name": "python",
   "nbconvert_exporter": "python",
   "pygments_lexer": "ipython3",
   "version": "3.7.3"
  }
 },
 "nbformat": 4,
 "nbformat_minor": 2
}
